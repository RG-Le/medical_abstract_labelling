{
 "cells": [
  {
   "cell_type": "markdown",
   "id": "1a46badc",
   "metadata": {},
   "source": [
    "# Skimlit Big\n",
    "\n",
    "Using the techniques and the best model to train it on the 200k abstract dataset."
   ]
  },
  {
   "cell_type": "markdown",
   "id": "6f1af121",
   "metadata": {},
   "source": [
    "## Checking a GPU Access"
   ]
  },
  {
   "cell_type": "code",
   "execution_count": 1,
   "id": "52133986",
   "metadata": {},
   "outputs": [
    {
     "name": "stdout",
     "output_type": "stream",
     "text": [
      "GPU 0: NVIDIA GeForce GTX 1660 Ti (UUID: GPU-7fba9be9-5762-f892-8d0f-63529aeb6747)\n"
     ]
    }
   ],
   "source": [
    "!nvidia-smi -L"
   ]
  },
  {
   "cell_type": "markdown",
   "id": "5754520e",
   "metadata": {},
   "source": [
    "## Getting the Data"
   ]
  },
  {
   "cell_type": "code",
   "execution_count": 2,
   "id": "ee0fb7c7",
   "metadata": {},
   "outputs": [
    {
     "name": "stdout",
     "output_type": "stream",
     "text": [
      " Volume in drive C is OS\n",
      " Volume Serial Number is C4D7-ECF5\n",
      "\n",
      " Directory of C:\\Users\\rajat\\OneDrive\\Desktop\\Tensorflow\\MP-2 SkimLit\\pubmed-rct\n",
      "\n",
      "11-03-2023  22:59    <DIR>          .\n",
      "30-04-2023  17:06    <DIR>          ..\n",
      "11-03-2023  22:59    <DIR>          PubMed_200k_RCT\n",
      "18-03-2023  22:45    <DIR>          PubMed_200k_RCT_numbers_replaced_with_at_sign\n",
      "11-03-2023  22:59    <DIR>          PubMed_20k_RCT\n",
      "11-03-2023  22:59    <DIR>          PubMed_20k_RCT_numbers_replaced_with_at_sign\n",
      "11-03-2023  22:59             2,403 README.md\n",
      "               1 File(s)          2,403 bytes\n",
      "               6 Dir(s)  116,168,146,944 bytes free\n"
     ]
    }
   ],
   "source": [
    "# Checking the data directory\n",
    "!dir pubmed-rct"
   ]
  },
  {
   "cell_type": "code",
   "execution_count": 3,
   "id": "10fc5f19",
   "metadata": {},
   "outputs": [],
   "source": [
    "# Creating the path\n",
    "data_dir = \"pubmed-rct/PubMed_200k_RCT_numbers_replaced_with_at_sign/\""
   ]
  },
  {
   "cell_type": "code",
   "execution_count": 4,
   "id": "301ef41f",
   "metadata": {},
   "outputs": [
    {
     "data": {
      "text/plain": [
       "['dev.txt', 'test.txt', 'train.txt', 'train.zip']"
      ]
     },
     "execution_count": 4,
     "metadata": {},
     "output_type": "execute_result"
    }
   ],
   "source": [
    "# Checking the files present in the dataset\n",
    "import os\n",
    "os.listdir(data_dir)"
   ]
  },
  {
   "cell_type": "code",
   "execution_count": 5,
   "id": "dac20ae3",
   "metadata": {},
   "outputs": [
    {
     "data": {
      "text/plain": [
       "['pubmed-rct/PubMed_200k_RCT_numbers_replaced_with_at_sign/dev.txt',\n",
       " 'pubmed-rct/PubMed_200k_RCT_numbers_replaced_with_at_sign/test.txt',\n",
       " 'pubmed-rct/PubMed_200k_RCT_numbers_replaced_with_at_sign/train.txt',\n",
       " 'pubmed-rct/PubMed_200k_RCT_numbers_replaced_with_at_sign/train.zip']"
      ]
     },
     "execution_count": 5,
     "metadata": {},
     "output_type": "execute_result"
    }
   ],
   "source": [
    "# Listing all filepaths:\n",
    "filenames = [data_dir + filename for filename in os.listdir(data_dir)]\n",
    "filenames"
   ]
  },
  {
   "cell_type": "markdown",
   "id": "2e51053d",
   "metadata": {},
   "source": [
    "## Getting the Data and Creating the Dataset"
   ]
  },
  {
   "cell_type": "code",
   "execution_count": 6,
   "id": "35984470",
   "metadata": {},
   "outputs": [],
   "source": [
    "# Creating a function to read the text file and convert it into lines\n",
    "def get_lines(filename):\n",
    "    with open(filename, \"r\") as f:\n",
    "        return f.readlines()"
   ]
  },
  {
   "cell_type": "code",
   "execution_count": 7,
   "id": "decedfb0",
   "metadata": {},
   "outputs": [
    {
     "data": {
      "text/plain": [
       "['###24491034\\n',\n",
       " 'BACKGROUND\\tThe emergence of HIV as a chronic condition means that people living with HIV are required to take more responsibility for the self-management of their condition , including making physical , emotional and social adjustments .\\n',\n",
       " 'BACKGROUND\\tThis paper describes the design and evaluation of Positive Outlook , an online program aiming to enhance the self-management skills of gay men living with HIV .\\n',\n",
       " 'METHODS\\tThis study is designed as a randomised controlled trial in which men living with HIV in Australia will be assigned to either an intervention group or usual care control group .\\n',\n",
       " \"METHODS\\tThe intervention group will participate in the online group program ` Positive Outlook ' .\\n\",\n",
       " 'METHODS\\tThe program is based on self-efficacy theory and uses a self-management approach to enhance skills , confidence and abilities to manage the psychosocial issues associated with HIV in daily life .\\n',\n",
       " 'METHODS\\tParticipants will access the program for a minimum of @ minutes per week over seven weeks .\\n',\n",
       " 'METHODS\\tPrimary outcomes are domain specific self-efficacy , HIV related quality of life , and outcomes of health education .\\n',\n",
       " 'METHODS\\tSecondary outcomes include : depression , anxiety and stress ; general health and quality of life ; adjustment to HIV ; and social support .\\n',\n",
       " 'METHODS\\tData collection will take place at baseline , completion of the intervention ( or eight weeks post randomisation ) and at @ week follow-up .\\n',\n",
       " 'CONCLUSIONS\\tResults of the Positive Outlook study will provide information regarding the effectiveness of online group programs improving health related outcomes for men living with HIV .\\n',\n",
       " 'BACKGROUND\\tACTRN@ .\\n',\n",
       " '\\n',\n",
       " '###20497432\\n',\n",
       " 'BACKGROUND\\tThe aim of this study was to evaluate the efficacy , safety and complications of orbital steroid injection versus oral steroid therapy in the management of thyroid-related ophthalmopathy .\\n',\n",
       " 'METHODS\\tA total of @ patients suffering from thyroid ophthalmopathy were included in this study .\\n',\n",
       " 'METHODS\\tPatients were randomized into two groups : group I included @ patients treated with oral prednisolone and group II included @ patients treated with peribulbar triamcinolone orbital injection .\\n',\n",
       " 'METHODS\\tOnly @ patients in both groups ( @ female and @ male ) completed the study .\\n',\n",
       " 'RESULTS\\tBoth groups showed improvement in symptoms and in clinical evidence of inflammation with improvement of eye movement and proptosis in most cases .\\n',\n",
       " 'RESULTS\\tMean exophthalmometry value before treatment was @ @ mm that decreased to @ @ mm in group I , compared with @ @ mm that decreased to @ @ mm in group II .\\n']"
      ]
     },
     "execution_count": 7,
     "metadata": {},
     "output_type": "execute_result"
    }
   ],
   "source": [
    "# Checking out the trainig files\n",
    "train_lines = get_lines(filenames[2])\n",
    "train_lines[:20]"
   ]
  },
  {
   "cell_type": "code",
   "execution_count": 8,
   "id": "026e17a4",
   "metadata": {},
   "outputs": [
    {
     "data": {
      "text/plain": [
       "2593169"
      ]
     },
     "execution_count": 8,
     "metadata": {},
     "output_type": "execute_result"
    }
   ],
   "source": [
    "# Number of lines in training set\n",
    "len(train_lines)"
   ]
  },
  {
   "cell_type": "code",
   "execution_count": 9,
   "id": "7c6db3ec",
   "metadata": {},
   "outputs": [],
   "source": [
    "# Creating a function to convert this text to dictionary\n",
    "def text_to_dict(filename):\n",
    "    input_lines = get_lines(filename)\n",
    "    abstract_lines = \"\"\n",
    "    abstract_samples = []\n",
    "    \n",
    "    for line in input_lines:\n",
    "        if line.startswith(\"###\"):\n",
    "            abstract_id = line\n",
    "            abstract_lines = \"\"\n",
    "        elif line.isspace():\n",
    "            abstract_line_split = abstract_lines.splitlines()\n",
    "            \n",
    "            for line_num, abstract_line in enumerate(abstract_line_split):\n",
    "                line_data = {}\n",
    "                target_text_split = abstract_line.split(\"\\t\")\n",
    "                line_data[\"target\"] = target_text_split[0]\n",
    "                line_data[\"text\"] = target_text_split[1]\n",
    "                line_data[\"total_lines\"] = len(abstract_line_split)\n",
    "                line_data[\"line_number\"] = line_num\n",
    "                abstract_samples.append(line_data)\n",
    "        else:\n",
    "            abstract_lines += line \n",
    "        \n",
    "    return abstract_samples"
   ]
  },
  {
   "cell_type": "code",
   "execution_count": 10,
   "id": "7be8b3c8",
   "metadata": {},
   "outputs": [
    {
     "data": {
      "text/plain": [
       "[{'target': 'BACKGROUND',\n",
       "  'text': 'The emergence of HIV as a chronic condition means that people living with HIV are required to take more responsibility for the self-management of their condition , including making physical , emotional and social adjustments .',\n",
       "  'total_lines': 11,\n",
       "  'line_number': 0},\n",
       " {'target': 'BACKGROUND',\n",
       "  'text': 'This paper describes the design and evaluation of Positive Outlook , an online program aiming to enhance the self-management skills of gay men living with HIV .',\n",
       "  'total_lines': 11,\n",
       "  'line_number': 1},\n",
       " {'target': 'METHODS',\n",
       "  'text': 'This study is designed as a randomised controlled trial in which men living with HIV in Australia will be assigned to either an intervention group or usual care control group .',\n",
       "  'total_lines': 11,\n",
       "  'line_number': 2},\n",
       " {'target': 'METHODS',\n",
       "  'text': \"The intervention group will participate in the online group program ` Positive Outlook ' .\",\n",
       "  'total_lines': 11,\n",
       "  'line_number': 3},\n",
       " {'target': 'METHODS',\n",
       "  'text': 'The program is based on self-efficacy theory and uses a self-management approach to enhance skills , confidence and abilities to manage the psychosocial issues associated with HIV in daily life .',\n",
       "  'total_lines': 11,\n",
       "  'line_number': 4},\n",
       " {'target': 'METHODS',\n",
       "  'text': 'Participants will access the program for a minimum of @ minutes per week over seven weeks .',\n",
       "  'total_lines': 11,\n",
       "  'line_number': 5},\n",
       " {'target': 'METHODS',\n",
       "  'text': 'Primary outcomes are domain specific self-efficacy , HIV related quality of life , and outcomes of health education .',\n",
       "  'total_lines': 11,\n",
       "  'line_number': 6},\n",
       " {'target': 'METHODS',\n",
       "  'text': 'Secondary outcomes include : depression , anxiety and stress ; general health and quality of life ; adjustment to HIV ; and social support .',\n",
       "  'total_lines': 11,\n",
       "  'line_number': 7},\n",
       " {'target': 'METHODS',\n",
       "  'text': 'Data collection will take place at baseline , completion of the intervention ( or eight weeks post randomisation ) and at @ week follow-up .',\n",
       "  'total_lines': 11,\n",
       "  'line_number': 8},\n",
       " {'target': 'CONCLUSIONS',\n",
       "  'text': 'Results of the Positive Outlook study will provide information regarding the effectiveness of online group programs improving health related outcomes for men living with HIV .',\n",
       "  'total_lines': 11,\n",
       "  'line_number': 9}]"
      ]
     },
     "execution_count": 10,
     "metadata": {},
     "output_type": "execute_result"
    }
   ],
   "source": [
    "# Creating training samples\n",
    "train_samples = text_to_dict(filenames[2])\n",
    "train_samples[:10]"
   ]
  },
  {
   "cell_type": "code",
   "execution_count": 11,
   "id": "293c6ec6",
   "metadata": {},
   "outputs": [
    {
     "name": "stdout",
     "output_type": "stream",
     "text": [
      "2211861 28932 29493\n"
     ]
    }
   ],
   "source": [
    "# Creating validation and test samples\n",
    "val_samples = text_to_dict(filenames[0])\n",
    "test_samples = text_to_dict(filenames[1])\n",
    "print(len(train_samples), len(val_samples), len(test_samples))"
   ]
  },
  {
   "cell_type": "code",
   "execution_count": 12,
   "id": "ea60ab80",
   "metadata": {},
   "outputs": [],
   "source": [
    "# Creating a data frame\n",
    "import pandas as pd\n",
    "def create_df(samples):\n",
    "    return pd.DataFrame(samples)\n",
    "\n",
    "train_df = create_df(train_samples)\n",
    "val_df = create_df(val_samples)\n",
    "test_df = create_df(test_samples)"
   ]
  },
  {
   "cell_type": "code",
   "execution_count": 13,
   "id": "91c8082d",
   "metadata": {},
   "outputs": [
    {
     "data": {
      "text/html": [
       "<div>\n",
       "<style scoped>\n",
       "    .dataframe tbody tr th:only-of-type {\n",
       "        vertical-align: middle;\n",
       "    }\n",
       "\n",
       "    .dataframe tbody tr th {\n",
       "        vertical-align: top;\n",
       "    }\n",
       "\n",
       "    .dataframe thead th {\n",
       "        text-align: right;\n",
       "    }\n",
       "</style>\n",
       "<table border=\"1\" class=\"dataframe\">\n",
       "  <thead>\n",
       "    <tr style=\"text-align: right;\">\n",
       "      <th></th>\n",
       "      <th>target</th>\n",
       "      <th>text</th>\n",
       "      <th>total_lines</th>\n",
       "      <th>line_number</th>\n",
       "    </tr>\n",
       "  </thead>\n",
       "  <tbody>\n",
       "    <tr>\n",
       "      <th>0</th>\n",
       "      <td>BACKGROUND</td>\n",
       "      <td>The emergence of HIV as a chronic condition me...</td>\n",
       "      <td>11</td>\n",
       "      <td>0</td>\n",
       "    </tr>\n",
       "    <tr>\n",
       "      <th>1</th>\n",
       "      <td>BACKGROUND</td>\n",
       "      <td>This paper describes the design and evaluation...</td>\n",
       "      <td>11</td>\n",
       "      <td>1</td>\n",
       "    </tr>\n",
       "    <tr>\n",
       "      <th>2</th>\n",
       "      <td>METHODS</td>\n",
       "      <td>This study is designed as a randomised control...</td>\n",
       "      <td>11</td>\n",
       "      <td>2</td>\n",
       "    </tr>\n",
       "    <tr>\n",
       "      <th>3</th>\n",
       "      <td>METHODS</td>\n",
       "      <td>The intervention group will participate in the...</td>\n",
       "      <td>11</td>\n",
       "      <td>3</td>\n",
       "    </tr>\n",
       "    <tr>\n",
       "      <th>4</th>\n",
       "      <td>METHODS</td>\n",
       "      <td>The program is based on self-efficacy theory a...</td>\n",
       "      <td>11</td>\n",
       "      <td>4</td>\n",
       "    </tr>\n",
       "    <tr>\n",
       "      <th>5</th>\n",
       "      <td>METHODS</td>\n",
       "      <td>Participants will access the program for a min...</td>\n",
       "      <td>11</td>\n",
       "      <td>5</td>\n",
       "    </tr>\n",
       "    <tr>\n",
       "      <th>6</th>\n",
       "      <td>METHODS</td>\n",
       "      <td>Primary outcomes are domain specific self-effi...</td>\n",
       "      <td>11</td>\n",
       "      <td>6</td>\n",
       "    </tr>\n",
       "    <tr>\n",
       "      <th>7</th>\n",
       "      <td>METHODS</td>\n",
       "      <td>Secondary outcomes include : depression , anxi...</td>\n",
       "      <td>11</td>\n",
       "      <td>7</td>\n",
       "    </tr>\n",
       "    <tr>\n",
       "      <th>8</th>\n",
       "      <td>METHODS</td>\n",
       "      <td>Data collection will take place at baseline , ...</td>\n",
       "      <td>11</td>\n",
       "      <td>8</td>\n",
       "    </tr>\n",
       "    <tr>\n",
       "      <th>9</th>\n",
       "      <td>CONCLUSIONS</td>\n",
       "      <td>Results of the Positive Outlook study will pro...</td>\n",
       "      <td>11</td>\n",
       "      <td>9</td>\n",
       "    </tr>\n",
       "  </tbody>\n",
       "</table>\n",
       "</div>"
      ],
      "text/plain": [
       "        target                                               text  \\\n",
       "0   BACKGROUND  The emergence of HIV as a chronic condition me...   \n",
       "1   BACKGROUND  This paper describes the design and evaluation...   \n",
       "2      METHODS  This study is designed as a randomised control...   \n",
       "3      METHODS  The intervention group will participate in the...   \n",
       "4      METHODS  The program is based on self-efficacy theory a...   \n",
       "5      METHODS  Participants will access the program for a min...   \n",
       "6      METHODS  Primary outcomes are domain specific self-effi...   \n",
       "7      METHODS  Secondary outcomes include : depression , anxi...   \n",
       "8      METHODS  Data collection will take place at baseline , ...   \n",
       "9  CONCLUSIONS  Results of the Positive Outlook study will pro...   \n",
       "\n",
       "   total_lines  line_number  \n",
       "0           11            0  \n",
       "1           11            1  \n",
       "2           11            2  \n",
       "3           11            3  \n",
       "4           11            4  \n",
       "5           11            5  \n",
       "6           11            6  \n",
       "7           11            7  \n",
       "8           11            8  \n",
       "9           11            9  "
      ]
     },
     "execution_count": 13,
     "metadata": {},
     "output_type": "execute_result"
    }
   ],
   "source": [
    "# Checking the training dataframes\n",
    "train_df.head(10)"
   ]
  },
  {
   "cell_type": "code",
   "execution_count": 14,
   "id": "89a27f04",
   "metadata": {},
   "outputs": [
    {
     "data": {
      "text/html": [
       "<div>\n",
       "<style scoped>\n",
       "    .dataframe tbody tr th:only-of-type {\n",
       "        vertical-align: middle;\n",
       "    }\n",
       "\n",
       "    .dataframe tbody tr th {\n",
       "        vertical-align: top;\n",
       "    }\n",
       "\n",
       "    .dataframe thead th {\n",
       "        text-align: right;\n",
       "    }\n",
       "</style>\n",
       "<table border=\"1\" class=\"dataframe\">\n",
       "  <thead>\n",
       "    <tr style=\"text-align: right;\">\n",
       "      <th></th>\n",
       "      <th>target</th>\n",
       "      <th>text</th>\n",
       "      <th>total_lines</th>\n",
       "      <th>line_number</th>\n",
       "    </tr>\n",
       "  </thead>\n",
       "  <tbody>\n",
       "    <tr>\n",
       "      <th>0</th>\n",
       "      <td>BACKGROUND</td>\n",
       "      <td>Many pathogenic processes and diseases are the...</td>\n",
       "      <td>11</td>\n",
       "      <td>0</td>\n",
       "    </tr>\n",
       "    <tr>\n",
       "      <th>1</th>\n",
       "      <td>BACKGROUND</td>\n",
       "      <td>It was recently demonstrated that supraphysiol...</td>\n",
       "      <td>11</td>\n",
       "      <td>1</td>\n",
       "    </tr>\n",
       "    <tr>\n",
       "      <th>2</th>\n",
       "      <td>BACKGROUND</td>\n",
       "      <td>In the present study , we examined the associa...</td>\n",
       "      <td>11</td>\n",
       "      <td>2</td>\n",
       "    </tr>\n",
       "    <tr>\n",
       "      <th>3</th>\n",
       "      <td>BACKGROUND</td>\n",
       "      <td>In addition , we compared plasma levels of MAp...</td>\n",
       "      <td>11</td>\n",
       "      <td>3</td>\n",
       "    </tr>\n",
       "    <tr>\n",
       "      <th>4</th>\n",
       "      <td>METHODS</td>\n",
       "      <td>A total of @ MI patients and @ control persons...</td>\n",
       "      <td>11</td>\n",
       "      <td>4</td>\n",
       "    </tr>\n",
       "    <tr>\n",
       "      <th>5</th>\n",
       "      <td>METHODS</td>\n",
       "      <td>Plasma samples were obtained and analysed with...</td>\n",
       "      <td>11</td>\n",
       "      <td>5</td>\n",
       "    </tr>\n",
       "    <tr>\n",
       "      <th>6</th>\n",
       "      <td>METHODS</td>\n",
       "      <td>The myocardial outcomes ( salvage index and fi...</td>\n",
       "      <td>11</td>\n",
       "      <td>6</td>\n",
       "    </tr>\n",
       "    <tr>\n",
       "      <th>7</th>\n",
       "      <td>RESULTS</td>\n",
       "      <td>MI patients had @ % higher plasma levels of MA...</td>\n",
       "      <td>11</td>\n",
       "      <td>7</td>\n",
       "    </tr>\n",
       "    <tr>\n",
       "      <th>8</th>\n",
       "      <td>RESULTS</td>\n",
       "      <td>However , neither salvage index ( Spearman rho...</td>\n",
       "      <td>11</td>\n",
       "      <td>8</td>\n",
       "    </tr>\n",
       "    <tr>\n",
       "      <th>9</th>\n",
       "      <td>RESULTS</td>\n",
       "      <td>Likewise , MASP-@ and MASP-@ were elevated in ...</td>\n",
       "      <td>11</td>\n",
       "      <td>9</td>\n",
       "    </tr>\n",
       "  </tbody>\n",
       "</table>\n",
       "</div>"
      ],
      "text/plain": [
       "       target                                               text  total_lines  \\\n",
       "0  BACKGROUND  Many pathogenic processes and diseases are the...           11   \n",
       "1  BACKGROUND  It was recently demonstrated that supraphysiol...           11   \n",
       "2  BACKGROUND  In the present study , we examined the associa...           11   \n",
       "3  BACKGROUND  In addition , we compared plasma levels of MAp...           11   \n",
       "4     METHODS  A total of @ MI patients and @ control persons...           11   \n",
       "5     METHODS  Plasma samples were obtained and analysed with...           11   \n",
       "6     METHODS  The myocardial outcomes ( salvage index and fi...           11   \n",
       "7     RESULTS  MI patients had @ % higher plasma levels of MA...           11   \n",
       "8     RESULTS  However , neither salvage index ( Spearman rho...           11   \n",
       "9     RESULTS  Likewise , MASP-@ and MASP-@ were elevated in ...           11   \n",
       "\n",
       "   line_number  \n",
       "0            0  \n",
       "1            1  \n",
       "2            2  \n",
       "3            3  \n",
       "4            4  \n",
       "5            5  \n",
       "6            6  \n",
       "7            7  \n",
       "8            8  \n",
       "9            9  "
      ]
     },
     "execution_count": 14,
     "metadata": {},
     "output_type": "execute_result"
    }
   ],
   "source": [
    "test_df.head(10)"
   ]
  },
  {
   "cell_type": "code",
   "execution_count": 15,
   "id": "e2860417",
   "metadata": {},
   "outputs": [
    {
     "data": {
      "text/html": [
       "<div>\n",
       "<style scoped>\n",
       "    .dataframe tbody tr th:only-of-type {\n",
       "        vertical-align: middle;\n",
       "    }\n",
       "\n",
       "    .dataframe tbody tr th {\n",
       "        vertical-align: top;\n",
       "    }\n",
       "\n",
       "    .dataframe thead th {\n",
       "        text-align: right;\n",
       "    }\n",
       "</style>\n",
       "<table border=\"1\" class=\"dataframe\">\n",
       "  <thead>\n",
       "    <tr style=\"text-align: right;\">\n",
       "      <th></th>\n",
       "      <th>target</th>\n",
       "      <th>text</th>\n",
       "      <th>total_lines</th>\n",
       "      <th>line_number</th>\n",
       "    </tr>\n",
       "  </thead>\n",
       "  <tbody>\n",
       "    <tr>\n",
       "      <th>0</th>\n",
       "      <td>BACKGROUND</td>\n",
       "      <td>Adrenergic activation is thought to be an impo...</td>\n",
       "      <td>9</td>\n",
       "      <td>0</td>\n",
       "    </tr>\n",
       "    <tr>\n",
       "      <th>1</th>\n",
       "      <td>RESULTS</td>\n",
       "      <td>Systemic venous norepinephrine was measured at...</td>\n",
       "      <td>9</td>\n",
       "      <td>1</td>\n",
       "    </tr>\n",
       "    <tr>\n",
       "      <th>2</th>\n",
       "      <td>RESULTS</td>\n",
       "      <td>Baseline norepinephrine level was associated w...</td>\n",
       "      <td>9</td>\n",
       "      <td>2</td>\n",
       "    </tr>\n",
       "    <tr>\n",
       "      <th>3</th>\n",
       "      <td>RESULTS</td>\n",
       "      <td>On multivariate analysis , baseline norepineph...</td>\n",
       "      <td>9</td>\n",
       "      <td>3</td>\n",
       "    </tr>\n",
       "    <tr>\n",
       "      <th>4</th>\n",
       "      <td>RESULTS</td>\n",
       "      <td>In contrast , the relation of the change in no...</td>\n",
       "      <td>9</td>\n",
       "      <td>4</td>\n",
       "    </tr>\n",
       "    <tr>\n",
       "      <th>5</th>\n",
       "      <td>RESULTS</td>\n",
       "      <td>In the placebo-treated group but not in the bu...</td>\n",
       "      <td>9</td>\n",
       "      <td>5</td>\n",
       "    </tr>\n",
       "    <tr>\n",
       "      <th>6</th>\n",
       "      <td>RESULTS</td>\n",
       "      <td>In the bucindolol-treated group but not in the...</td>\n",
       "      <td>9</td>\n",
       "      <td>6</td>\n",
       "    </tr>\n",
       "    <tr>\n",
       "      <th>7</th>\n",
       "      <td>RESULTS</td>\n",
       "      <td>A likelihood-based method indicated that @ % o...</td>\n",
       "      <td>9</td>\n",
       "      <td>7</td>\n",
       "    </tr>\n",
       "    <tr>\n",
       "      <th>8</th>\n",
       "      <td>CONCLUSIONS</td>\n",
       "      <td>In BEST , a subset of patients treated with bu...</td>\n",
       "      <td>9</td>\n",
       "      <td>8</td>\n",
       "    </tr>\n",
       "    <tr>\n",
       "      <th>9</th>\n",
       "      <td>OBJECTIVE</td>\n",
       "      <td>The study evaluated the effectiveness of a thr...</td>\n",
       "      <td>12</td>\n",
       "      <td>0</td>\n",
       "    </tr>\n",
       "  </tbody>\n",
       "</table>\n",
       "</div>"
      ],
      "text/plain": [
       "        target                                               text  \\\n",
       "0   BACKGROUND  Adrenergic activation is thought to be an impo...   \n",
       "1      RESULTS  Systemic venous norepinephrine was measured at...   \n",
       "2      RESULTS  Baseline norepinephrine level was associated w...   \n",
       "3      RESULTS  On multivariate analysis , baseline norepineph...   \n",
       "4      RESULTS  In contrast , the relation of the change in no...   \n",
       "5      RESULTS  In the placebo-treated group but not in the bu...   \n",
       "6      RESULTS  In the bucindolol-treated group but not in the...   \n",
       "7      RESULTS  A likelihood-based method indicated that @ % o...   \n",
       "8  CONCLUSIONS  In BEST , a subset of patients treated with bu...   \n",
       "9    OBJECTIVE  The study evaluated the effectiveness of a thr...   \n",
       "\n",
       "   total_lines  line_number  \n",
       "0            9            0  \n",
       "1            9            1  \n",
       "2            9            2  \n",
       "3            9            3  \n",
       "4            9            4  \n",
       "5            9            5  \n",
       "6            9            6  \n",
       "7            9            7  \n",
       "8            9            8  \n",
       "9           12            0  "
      ]
     },
     "execution_count": 15,
     "metadata": {},
     "output_type": "execute_result"
    }
   ],
   "source": [
    "val_df.head(10)"
   ]
  },
  {
   "cell_type": "code",
   "execution_count": 16,
   "id": "0e49a628",
   "metadata": {},
   "outputs": [
    {
     "name": "stdout",
     "output_type": "stream",
     "text": [
      "RESULTS        766271\n",
      "METHODS        722586\n",
      "CONCLUSIONS    339714\n",
      "BACKGROUND     196689\n",
      "OBJECTIVE      186601\n",
      "Name: target, dtype: int64\n"
     ]
    },
    {
     "data": {
      "text/plain": [
       "<AxesSubplot:>"
      ]
     },
     "execution_count": 16,
     "metadata": {},
     "output_type": "execute_result"
    },
    {
     "data": {
      "image/png": "[encoded data removed]",
      "text/plain": [
       "<Figure size 640x480 with 1 Axes>"
      ]
     },
     "metadata": {},
     "output_type": "display_data"
    }
   ],
   "source": [
    "# Checking the number of target values of each type\n",
    "print(train_df.target.value_counts())\n",
    "train_df.target.value_counts().plot.bar()"
   ]
  },
  {
   "cell_type": "code",
   "execution_count": 17,
   "id": "48535a97",
   "metadata": {},
   "outputs": [
    {
     "data": {
      "text/plain": [
       "<AxesSubplot:ylabel='Frequency'>"
      ]
     },
     "execution_count": 17,
     "metadata": {},
     "output_type": "execute_result"
    },
    {
     "data": {
      "image/png": "[encoded data removed]",
      "text/plain": [
       "<Figure size 640x480 with 1 Axes>"
      ]
     },
     "metadata": {},
     "output_type": "display_data"
    }
   ],
   "source": [
    "# Checkin the ditribution of total lines \n",
    "train_df.total_lines.plot.hist(bins = 20)"
   ]
  },
  {
   "cell_type": "code",
   "execution_count": 18,
   "id": "db71d4a7",
   "metadata": {},
   "outputs": [
    {
     "name": "stdout",
     "output_type": "stream",
     "text": [
      "2211861 28932 29493\n"
     ]
    }
   ],
   "source": [
    "# Getting a list of sentences \n",
    "train_sentences = train_df[\"text\"].to_list()\n",
    "val_sentences = val_df[\"text\"].to_list()\n",
    "test_sentences = test_df[\"text\"].to_list()\n",
    "print(len(train_sentences), len(val_sentences), len(test_sentences))"
   ]
  },
  {
   "cell_type": "markdown",
   "id": "89ffca33",
   "metadata": {},
   "source": [
    "## Preprocessing the data"
   ]
  },
  {
   "cell_type": "markdown",
   "id": "e7707ba1",
   "metadata": {},
   "source": [
    "### 1. Encoding the Data"
   ]
  },
  {
   "cell_type": "code",
   "execution_count": 19,
   "id": "a514f9e8",
   "metadata": {},
   "outputs": [],
   "source": [
    "# Creating a function to onehot encode data\n",
    "from sklearn.preprocessing import OneHotEncoder\n",
    "def one_hot(df_attr):\n",
    "    one_hot_encoder = OneHotEncoder(sparse = False)\n",
    "    return one_hot_encoder.fit_transform(df_attr.to_numpy().reshape(-1, 1))"
   ]
  },
  {
   "cell_type": "code",
   "execution_count": 20,
   "id": "9edb8ee4",
   "metadata": {},
   "outputs": [
    {
     "data": {
      "text/plain": [
       "(array([[1., 0., 0., 0., 0.],\n",
       "        [1., 0., 0., 0., 0.],\n",
       "        [0., 0., 1., 0., 0.],\n",
       "        ...,\n",
       "        [0., 0., 0., 0., 1.],\n",
       "        [0., 0., 0., 0., 1.],\n",
       "        [0., 0., 0., 0., 1.]]),\n",
       " array([[1., 0., 0., 0., 0.],\n",
       "        [0., 0., 0., 0., 1.],\n",
       "        [0., 0., 0., 0., 1.],\n",
       "        ...,\n",
       "        [0., 0., 0., 0., 1.],\n",
       "        [0., 1., 0., 0., 0.],\n",
       "        [0., 1., 0., 0., 0.]]),\n",
       " array([[1., 0., 0., 0., 0.],\n",
       "        [1., 0., 0., 0., 0.],\n",
       "        [1., 0., 0., 0., 0.],\n",
       "        ...,\n",
       "        [0., 0., 0., 0., 1.],\n",
       "        [0., 1., 0., 0., 0.],\n",
       "        [0., 1., 0., 0., 0.]]))"
      ]
     },
     "execution_count": 20,
     "metadata": {},
     "output_type": "execute_result"
    }
   ],
   "source": [
    "# Converting target values into onehot vectors \n",
    "train_labels_one_hot = one_hot(train_df[\"target\"])\n",
    "val_labels_one_hot = one_hot(val_df[\"target\"])\n",
    "test_labels_one_hot = one_hot(test_df[\"target\"])\n",
    "train_labels_one_hot, val_labels_one_hot, test_labels_one_hot"
   ]
  },
  {
   "cell_type": "code",
   "execution_count": 21,
   "id": "6d2779d7",
   "metadata": {},
   "outputs": [],
   "source": [
    "# Creating a Label Encoding the Target Data\n",
    "from sklearn.preprocessing import LabelEncoder\n",
    "def label_encode(df_attr):\n",
    "    le = LabelEncoder()\n",
    "    return le.fit_transform(df_attr.to_numpy()), le.classes_, len(le.classes_) "
   ]
  },
  {
   "cell_type": "code",
   "execution_count": 22,
   "id": "002cc3f8",
   "metadata": {},
   "outputs": [
    {
     "data": {
      "text/plain": [
       "(array([0, 0, 2, ..., 4, 4, 4]),\n",
       " array([0, 4, 4, ..., 4, 1, 1]),\n",
       " array([0, 0, 0, ..., 4, 1, 1]))"
      ]
     },
     "execution_count": 22,
     "metadata": {},
     "output_type": "execute_result"
    }
   ],
   "source": [
    "# Creating label encodings of the target\n",
    "train_labels_encoded, class_names, num_classes  = label_encode(train_df[\"target\"])\n",
    "val_labels_encoded, _, _ = label_encode(val_df[\"target\"])\n",
    "test_labels_encoded, _, _ = label_encode(test_df[\"target\"])\n",
    "train_labels_encoded, val_labels_encoded, test_labels_encoded"
   ]
  },
  {
   "cell_type": "code",
   "execution_count": 23,
   "id": "f41093fc",
   "metadata": {},
   "outputs": [
    {
     "data": {
      "text/plain": [
       "(array(['BACKGROUND', 'CONCLUSIONS', 'METHODS', 'OBJECTIVE', 'RESULTS'],\n",
       "       dtype=object),\n",
       " 5)"
      ]
     },
     "execution_count": 23,
     "metadata": {},
     "output_type": "execute_result"
    }
   ],
   "source": [
    "# Getting the number of classes and class names\n",
    "class_names, num_classes"
   ]
  },
  {
   "cell_type": "markdown",
   "id": "8a662e5d",
   "metadata": {},
   "source": [
    "### 2. Word Level Tokenisation"
   ]
  },
  {
   "cell_type": "code",
   "execution_count": 24,
   "id": "2d3a2d54",
   "metadata": {},
   "outputs": [
    {
     "data": {
      "text/plain": [
       "26.229355280462922"
      ]
     },
     "execution_count": 24,
     "metadata": {},
     "output_type": "execute_result"
    }
   ],
   "source": [
    "# Average length of each sentence\n",
    "import numpy as np\n",
    "sent_len = [len(sentence.split()) for sentence in train_sentences]\n",
    "avg_sent_length = np.mean(sent_len)\n",
    "avg_sent_length"
   ]
  },
  {
   "cell_type": "code",
   "execution_count": 25,
   "id": "c93f54b2",
   "metadata": {},
   "outputs": [
    {
     "data": {
      "text/plain": [
       "(array([6.656900e+05, 1.064939e+06, 3.491070e+05, 9.095700e+04,\n",
       "        2.651300e+04, 8.980000e+03, 3.125000e+03, 1.374000e+03,\n",
       "        5.800000e+02, 2.770000e+02, 1.350000e+02, 7.100000e+01,\n",
       "        5.200000e+01, 2.400000e+01, 1.900000e+01, 6.000000e+00,\n",
       "        4.000000e+00, 5.000000e+00, 1.000000e+00, 2.000000e+00]),\n",
       " array([  1.  ,  17.85,  34.7 ,  51.55,  68.4 ,  85.25, 102.1 , 118.95,\n",
       "        135.8 , 152.65, 169.5 , 186.35, 203.2 , 220.05, 236.9 , 253.75,\n",
       "        270.6 , 287.45, 304.3 , 321.15, 338.  ]),\n",
       " <BarContainer object of 20 artists>)"
      ]
     },
     "execution_count": 25,
     "metadata": {},
     "output_type": "execute_result"
    },
    {
     "data": {
      "image/png": "[encoded data removed]",
      "text/plain": [
       "<Figure size 640x480 with 1 Axes>"
      ]
     },
     "metadata": {},
     "output_type": "display_data"
    }
   ],
   "source": [
    "import matplotlib.pyplot as plt\n",
    "plt.hist(sent_len, bins = 20)"
   ]
  },
  {
   "cell_type": "code",
   "execution_count": 25,
   "id": "a12c7391",
   "metadata": {},
   "outputs": [
    {
     "data": {
      "text/plain": [
       "67"
      ]
     },
     "execution_count": 25,
     "metadata": {},
     "output_type": "execute_result"
    }
   ],
   "source": [
    "# Length that covers 98% of sentence length\n",
    "output_seq_len = int(np.percentile(sent_len, 98))\n",
    "output_seq_len"
   ]
  },
  {
   "cell_type": "code",
   "execution_count": 26,
   "id": "6fcf7e0e",
   "metadata": {},
   "outputs": [
    {
     "data": {
      "text/plain": [
       "338"
      ]
     },
     "execution_count": 26,
     "metadata": {},
     "output_type": "execute_result"
    }
   ],
   "source": [
    "# Maximum sequence length in training set\n",
    "max(sent_len)"
   ]
  },
  {
   "cell_type": "code",
   "execution_count": 27,
   "id": "b31ca7e6",
   "metadata": {},
   "outputs": [],
   "source": [
    "# Vocabulary size (taken from table 2 https://arxiv.org/abs/1710.06071)\n",
    "max_token = 331000"
   ]
  },
  {
   "cell_type": "code",
   "execution_count": 28,
   "id": "49fed8ba",
   "metadata": {},
   "outputs": [],
   "source": [
    "# Creating a text vectorizer\n",
    "from tensorflow.keras.layers import TextVectorization\n",
    "text_vectorizer = TextVectorization(max_tokens = max_token,\n",
    "                                    output_sequence_length = output_seq_len)"
   ]
  },
  {
   "cell_type": "code",
   "execution_count": 29,
   "id": "a4af6598",
   "metadata": {},
   "outputs": [],
   "source": [
    "# Adapting the Text Vectorizer to training sentences\n",
    "text_vectorizer.adapt(train_sentences, batch_size=128)"
   ]
  },
  {
   "cell_type": "code",
   "execution_count": 30,
   "id": "2e3f4ce3",
   "metadata": {},
   "outputs": [],
   "source": [
    "import pickle\n",
    "pickle.dump({'config': text_vectorizer.get_config(),\n",
    "             'weights': text_vectorizer.get_weights()}\n",
    "            , open(\"tv_layer.pkl\", \"wb\"))"
   ]
  },
  {
   "cell_type": "code",
   "execution_count": 32,
   "id": "964e7406",
   "metadata": {},
   "outputs": [],
   "source": [
    "import tensorflow as tf\n",
    "from_disk = pickle.load(open(\"tv_layer.pkl\", \"rb\"))\n",
    "text_vectorizer = TextVectorization.from_config(from_disk['config'])\n",
    "# You have to call `adapt` with some dummy data (BUG in Keras)\n",
    "text_vectorizer.adapt(tf.data.Dataset.from_tensor_slices([\"xyz\"]))\n",
    "text_vectorizer.set_weights(from_disk['weights'])"
   ]
  },
  {
   "cell_type": "code",
   "execution_count": 33,
   "id": "59873914",
   "metadata": {},
   "outputs": [
    {
     "name": "stdout",
     "output_type": "stream",
     "text": [
      "Text: \n",
      "The relationship between changes in stance-phase knee flexion and changes in pain , disability , and onset timing of individual vasti activity was also examined .\n",
      "\n",
      "Length of text: 26\n",
      "\n",
      "Vectorizer text: [[    2   686    32   136     5 67383   579  2563     4   136     5    61\n",
      "    763     4   622  2461     3   634 47876   198    10   127   436     0\n",
      "      0     0     0     0     0     0     0     0     0     0     0     0\n",
      "      0     0     0     0     0     0     0     0     0     0     0     0\n",
      "      0     0     0     0     0     0     0     0     0     0     0     0\n",
      "      0     0     0     0     0     0     0]]\n"
     ]
    }
   ],
   "source": [
    "# testing text vectorizer on random sentences\n",
    "import random\n",
    "target_sent = random.choice(train_sentences)\n",
    "print(f\"Text: \\n{target_sent}\")\n",
    "print(f\"\\nLength of text: {len(target_sent.split())}\")\n",
    "print(f\"\\nVectorizer text: {text_vectorizer([target_sent])}\")"
   ]
  },
  {
   "cell_type": "code",
   "execution_count": 34,
   "id": "03913717",
   "metadata": {},
   "outputs": [
    {
     "name": "stdout",
     "output_type": "stream",
     "text": [
      "Number of words in vorct_200k_text_vocab: 247961\n",
      "Most common words in vocab: ['', '[UNK]', 'the', 'of', 'and', 'in', 'to', 'with', 'a', 'were', 'was', 'patients', 'for', 'group', 'p', 'or', 'at', 'treatment', 'study', 'on']\n",
      "Least common words in vocab: ['aaae', 'aaacp', 'aaabbb', 'aaaanalog', 'aaaa']\n"
     ]
    }
   ],
   "source": [
    "# Exploring our training vocab\n",
    "rct_200k_text_vocab = text_vectorizer.get_vocabulary()\n",
    "print(f\"Number of words in vorct_200k_text_vocab: {len(rct_200k_text_vocab)}\")\n",
    "print(f\"Most common words in vocab: {rct_200k_text_vocab[:20]}\")\n",
    "print(f\"Least common words in vocab: {rct_200k_text_vocab[-5:]}\")"
   ]
  },
  {
   "cell_type": "code",
   "execution_count": 35,
   "id": "9a10d3d2",
   "metadata": {},
   "outputs": [
    {
     "data": {
      "text/plain": [
       "{'name': 'text_vectorization',\n",
       " 'trainable': True,\n",
       " 'batch_input_shape': (None,),\n",
       " 'dtype': 'string',\n",
       " 'max_tokens': 331000,\n",
       " 'standardize': 'lower_and_strip_punctuation',\n",
       " 'split': 'whitespace',\n",
       " 'ngrams': None,\n",
       " 'output_mode': 'int',\n",
       " 'output_sequence_length': 67,\n",
       " 'pad_to_max_tokens': False,\n",
       " 'sparse': False,\n",
       " 'ragged': False,\n",
       " 'vocabulary': None,\n",
       " 'idf_weights': None}"
      ]
     },
     "execution_count": 35,
     "metadata": {},
     "output_type": "execute_result"
    }
   ],
   "source": [
    "# Checking the configuration of our text vectorizer\n",
    "text_vectorizer.get_config()"
   ]
  },
  {
   "cell_type": "markdown",
   "id": "719893c2",
   "metadata": {},
   "source": [
    "### 3. Token Embedding Layer (Pretrained)"
   ]
  },
  {
   "cell_type": "code",
   "execution_count": 36,
   "id": "7a31d0c2",
   "metadata": {},
   "outputs": [
    {
     "name": "stdout",
     "output_type": "stream",
     "text": [
      "WARNING:tensorflow:Please fix your imports. Module tensorflow.python.training.tracking.data_structures has been moved to tensorflow.python.trackable.data_structures. The old module will be deleted in version 2.11.\n"
     ]
    }
   ],
   "source": [
    "# Downloading a pretrained USE (unicersal sentence encoder) embedding\n",
    "import tensorflow_hub as hub\n",
    "tf_hub_embedding_layer = hub.KerasLayer(\"https://tfhub.dev/google/universal-sentence-encoder/4\",\n",
    "                                        trainable = False,\n",
    "                                        name = \"Universal_Sentence_Encoder\")"
   ]
  },
  {
   "cell_type": "code",
   "execution_count": 37,
   "id": "3a89a608",
   "metadata": {},
   "outputs": [
    {
     "ename": "UnknownError",
     "evalue": "Exception encountered when calling layer \"Universal_Sentence_Encoder\" \"                 f\"(type KerasLayer).\n\nGraph execution error:\n\nJIT compilation failed.\n\t [[{{node EncoderDNN/EmbeddingLookup/EmbeddingLookupUnique/embedding_lookup/mod}}]] [Op:__inference_restored_function_body_39498]\n\nCall arguments received by layer \"Universal_Sentence_Encoder\" \"                 f\"(type KerasLayer):\n  • inputs=[\"'This RCT examined the efficacy of a manualized social intervention for children with HFASDs'\"]\n  • training=None",
     "output_type": "error",
     "traceback": [
      "\u001b[1;31m---------------------------------------------------------------------------\u001b[0m",
      "\u001b[1;31mUnknownError\u001b[0m                              Traceback (most recent call last)",
      "\u001b[1;32m~\\AppData\\Local\\Temp\\ipykernel_6540\\1983309995.py\u001b[0m in \u001b[0;36m<module>\u001b[1;34m\u001b[0m\n\u001b[1;32m----> 1\u001b[1;33m \u001b[0muse_embedded_sent\u001b[0m \u001b[1;33m=\u001b[0m \u001b[0mtf_hub_embedding_layer\u001b[0m\u001b[1;33m(\u001b[0m\u001b[1;33m[\u001b[0m\u001b[1;34m\"This RCT examined the efficacy of a manualized social intervention for children with HFASDs\"\u001b[0m\u001b[1;33m]\u001b[0m\u001b[1;33m)\u001b[0m\u001b[1;33m\u001b[0m\u001b[1;33m\u001b[0m\u001b[0m\n\u001b[0m\u001b[0;32m      2\u001b[0m \u001b[0muse_embedded_sent\u001b[0m\u001b[1;33m\u001b[0m\u001b[1;33m\u001b[0m\u001b[0m\n",
      "\u001b[1;32m~\\anaconda3\\lib\\site-packages\\keras\\utils\\traceback_utils.py\u001b[0m in \u001b[0;36merror_handler\u001b[1;34m(*args, **kwargs)\u001b[0m\n\u001b[0;32m     68\u001b[0m             \u001b[1;31m# To get the full stack trace, call:\u001b[0m\u001b[1;33m\u001b[0m\u001b[1;33m\u001b[0m\u001b[0m\n\u001b[0;32m     69\u001b[0m             \u001b[1;31m# `tf.debugging.disable_traceback_filtering()`\u001b[0m\u001b[1;33m\u001b[0m\u001b[1;33m\u001b[0m\u001b[0m\n\u001b[1;32m---> 70\u001b[1;33m             \u001b[1;32mraise\u001b[0m \u001b[0me\u001b[0m\u001b[1;33m.\u001b[0m\u001b[0mwith_traceback\u001b[0m\u001b[1;33m(\u001b[0m\u001b[0mfiltered_tb\u001b[0m\u001b[1;33m)\u001b[0m \u001b[1;32mfrom\u001b[0m \u001b[1;32mNone\u001b[0m\u001b[1;33m\u001b[0m\u001b[1;33m\u001b[0m\u001b[0m\n\u001b[0m\u001b[0;32m     71\u001b[0m         \u001b[1;32mfinally\u001b[0m\u001b[1;33m:\u001b[0m\u001b[1;33m\u001b[0m\u001b[1;33m\u001b[0m\u001b[0m\n\u001b[0;32m     72\u001b[0m             \u001b[1;32mdel\u001b[0m \u001b[0mfiltered_tb\u001b[0m\u001b[1;33m\u001b[0m\u001b[1;33m\u001b[0m\u001b[0m\n",
      "\u001b[1;32m~\\anaconda3\\lib\\site-packages\\tensorflow_hub\\keras_layer.py\u001b[0m in \u001b[0;36mcall\u001b[1;34m(self, inputs, training)\u001b[0m\n\u001b[0;32m    227\u001b[0m     \u001b[1;31m# or else Keras' global `learning_phase`, which might actually be a tensor.\u001b[0m\u001b[1;33m\u001b[0m\u001b[1;33m\u001b[0m\u001b[0m\n\u001b[0;32m    228\u001b[0m     \u001b[1;32mif\u001b[0m \u001b[1;32mnot\u001b[0m \u001b[0mself\u001b[0m\u001b[1;33m.\u001b[0m\u001b[0m_has_training_argument\u001b[0m\u001b[1;33m:\u001b[0m\u001b[1;33m\u001b[0m\u001b[1;33m\u001b[0m\u001b[0m\n\u001b[1;32m--> 229\u001b[1;33m       \u001b[0mresult\u001b[0m \u001b[1;33m=\u001b[0m \u001b[0mf\u001b[0m\u001b[1;33m(\u001b[0m\u001b[1;33m)\u001b[0m\u001b[1;33m\u001b[0m\u001b[1;33m\u001b[0m\u001b[0m\n\u001b[0m\u001b[0;32m    230\u001b[0m     \u001b[1;32melse\u001b[0m\u001b[1;33m:\u001b[0m\u001b[1;33m\u001b[0m\u001b[1;33m\u001b[0m\u001b[0m\n\u001b[0;32m    231\u001b[0m       \u001b[1;32mif\u001b[0m \u001b[0mself\u001b[0m\u001b[1;33m.\u001b[0m\u001b[0mtrainable\u001b[0m\u001b[1;33m:\u001b[0m\u001b[1;33m\u001b[0m\u001b[1;33m\u001b[0m\u001b[0m\n",
      "\u001b[1;31mUnknownError\u001b[0m: Exception encountered when calling layer \"Universal_Sentence_Encoder\" \"                 f\"(type KerasLayer).\n\nGraph execution error:\n\nJIT compilation failed.\n\t [[{{node EncoderDNN/EmbeddingLookup/EmbeddingLookupUnique/embedding_lookup/mod}}]] [Op:__inference_restored_function_body_39498]\n\nCall arguments received by layer \"Universal_Sentence_Encoder\" \"                 f\"(type KerasLayer):\n  • inputs=[\"'This RCT examined the efficacy of a manualized social intervention for children with HFASDs'\"]\n  • training=None"
     ]
    }
   ],
   "source": [
    "use_embedded_sent = tf_hub_embedding_layer([\"This RCT examined the efficacy of a manualized social intervention for children with HFASDs\"])\n",
    "use_embedded_sent"
   ]
  },
  {
   "cell_type": "code",
   "execution_count": 36,
   "id": "22ef9c01",
   "metadata": {},
   "outputs": [
    {
     "ename": "UnknownError",
     "evalue": "Exception encountered when calling layer \"Universal_Sentence_Encoder\" \"                 f\"(type KerasLayer).\n\nGraph execution error:\n\nJIT compilation failed.\n\t [[{{node EncoderDNN/EmbeddingLookup/EmbeddingLookupUnique/embedding_lookup/mod}}]] [Op:__inference_restored_function_body_39322]\n\nCall arguments received by layer \"Universal_Sentence_Encoder\" \"                 f\"(type KerasLayer):\n  • inputs=[\"'A mean of @ DRPs/patient ( @ % CI , @-@ @ ) was identified based on the PAIR criteria compared with @ DRPs/patient ( @ % CI , @-@ @ ) based on clinical judgment of nephrology pharmacists .'\"]\n  • training=None",
     "output_type": "error",
     "traceback": [
      "\u001b[1;31m---------------------------------------------------------------------------\u001b[0m",
      "\u001b[1;31mUnknownError\u001b[0m                              Traceback (most recent call last)",
      "\u001b[1;32m~\\AppData\\Local\\Temp\\ipykernel_19304\\1931744300.py\u001b[0m in \u001b[0;36m<module>\u001b[1;34m\u001b[0m\n\u001b[0;32m      1\u001b[0m \u001b[1;31m# Test out the pretrained embedding on random sentence\u001b[0m\u001b[1;33m\u001b[0m\u001b[1;33m\u001b[0m\u001b[0m\n\u001b[0;32m      2\u001b[0m \u001b[0mrandom_train_sentence\u001b[0m \u001b[1;33m=\u001b[0m \u001b[0mrandom\u001b[0m\u001b[1;33m.\u001b[0m\u001b[0mchoice\u001b[0m\u001b[1;33m(\u001b[0m\u001b[0mtrain_sentences\u001b[0m\u001b[1;33m)\u001b[0m\u001b[1;33m\u001b[0m\u001b[1;33m\u001b[0m\u001b[0m\n\u001b[1;32m----> 3\u001b[1;33m \u001b[0muse_embedded_sent\u001b[0m \u001b[1;33m=\u001b[0m \u001b[0mtf_hub_embedding_layer\u001b[0m\u001b[1;33m(\u001b[0m\u001b[1;33m[\u001b[0m\u001b[0mrandom_train_sentence\u001b[0m\u001b[1;33m]\u001b[0m\u001b[1;33m)\u001b[0m\u001b[1;33m\u001b[0m\u001b[1;33m\u001b[0m\u001b[0m\n\u001b[0m\u001b[0;32m      4\u001b[0m \u001b[0mprint\u001b[0m\u001b[1;33m(\u001b[0m\u001b[1;34mf\"Random Sentence:\\n{random_train_sentence}\"\u001b[0m\u001b[1;33m)\u001b[0m\u001b[1;33m\u001b[0m\u001b[1;33m\u001b[0m\u001b[0m\n\u001b[0;32m      5\u001b[0m \u001b[0mprint\u001b[0m\u001b[1;33m(\u001b[0m\u001b[1;34mf\"Sentence after embedding: \\n{use_embedded_sent[0][:30]}\"\u001b[0m\u001b[1;33m)\u001b[0m\u001b[1;33m\u001b[0m\u001b[1;33m\u001b[0m\u001b[0m\n",
      "\u001b[1;32m~\\anaconda3\\lib\\site-packages\\keras\\utils\\traceback_utils.py\u001b[0m in \u001b[0;36merror_handler\u001b[1;34m(*args, **kwargs)\u001b[0m\n\u001b[0;32m     68\u001b[0m             \u001b[1;31m# To get the full stack trace, call:\u001b[0m\u001b[1;33m\u001b[0m\u001b[1;33m\u001b[0m\u001b[0m\n\u001b[0;32m     69\u001b[0m             \u001b[1;31m# `tf.debugging.disable_traceback_filtering()`\u001b[0m\u001b[1;33m\u001b[0m\u001b[1;33m\u001b[0m\u001b[0m\n\u001b[1;32m---> 70\u001b[1;33m             \u001b[1;32mraise\u001b[0m \u001b[0me\u001b[0m\u001b[1;33m.\u001b[0m\u001b[0mwith_traceback\u001b[0m\u001b[1;33m(\u001b[0m\u001b[0mfiltered_tb\u001b[0m\u001b[1;33m)\u001b[0m \u001b[1;32mfrom\u001b[0m \u001b[1;32mNone\u001b[0m\u001b[1;33m\u001b[0m\u001b[1;33m\u001b[0m\u001b[0m\n\u001b[0m\u001b[0;32m     71\u001b[0m         \u001b[1;32mfinally\u001b[0m\u001b[1;33m:\u001b[0m\u001b[1;33m\u001b[0m\u001b[1;33m\u001b[0m\u001b[0m\n\u001b[0;32m     72\u001b[0m             \u001b[1;32mdel\u001b[0m \u001b[0mfiltered_tb\u001b[0m\u001b[1;33m\u001b[0m\u001b[1;33m\u001b[0m\u001b[0m\n",
      "\u001b[1;32m~\\anaconda3\\lib\\site-packages\\tensorflow_hub\\keras_layer.py\u001b[0m in \u001b[0;36mcall\u001b[1;34m(self, inputs, training)\u001b[0m\n\u001b[0;32m    227\u001b[0m     \u001b[1;31m# or else Keras' global `learning_phase`, which might actually be a tensor.\u001b[0m\u001b[1;33m\u001b[0m\u001b[1;33m\u001b[0m\u001b[0m\n\u001b[0;32m    228\u001b[0m     \u001b[1;32mif\u001b[0m \u001b[1;32mnot\u001b[0m \u001b[0mself\u001b[0m\u001b[1;33m.\u001b[0m\u001b[0m_has_training_argument\u001b[0m\u001b[1;33m:\u001b[0m\u001b[1;33m\u001b[0m\u001b[1;33m\u001b[0m\u001b[0m\n\u001b[1;32m--> 229\u001b[1;33m       \u001b[0mresult\u001b[0m \u001b[1;33m=\u001b[0m \u001b[0mf\u001b[0m\u001b[1;33m(\u001b[0m\u001b[1;33m)\u001b[0m\u001b[1;33m\u001b[0m\u001b[1;33m\u001b[0m\u001b[0m\n\u001b[0m\u001b[0;32m    230\u001b[0m     \u001b[1;32melse\u001b[0m\u001b[1;33m:\u001b[0m\u001b[1;33m\u001b[0m\u001b[1;33m\u001b[0m\u001b[0m\n\u001b[0;32m    231\u001b[0m       \u001b[1;32mif\u001b[0m \u001b[0mself\u001b[0m\u001b[1;33m.\u001b[0m\u001b[0mtrainable\u001b[0m\u001b[1;33m:\u001b[0m\u001b[1;33m\u001b[0m\u001b[1;33m\u001b[0m\u001b[0m\n",
      "\u001b[1;31mUnknownError\u001b[0m: Exception encountered when calling layer \"Universal_Sentence_Encoder\" \"                 f\"(type KerasLayer).\n\nGraph execution error:\n\nJIT compilation failed.\n\t [[{{node EncoderDNN/EmbeddingLookup/EmbeddingLookupUnique/embedding_lookup/mod}}]] [Op:__inference_restored_function_body_39322]\n\nCall arguments received by layer \"Universal_Sentence_Encoder\" \"                 f\"(type KerasLayer):\n  • inputs=[\"'A mean of @ DRPs/patient ( @ % CI , @-@ @ ) was identified based on the PAIR criteria compared with @ DRPs/patient ( @ % CI , @-@ @ ) based on clinical judgment of nephrology pharmacists .'\"]\n  • training=None"
     ]
    }
   ],
   "source": [
    "# Test out the pretrained embedding on random sentence\n",
    "random_train_sentence = random.choice(train_sentences)\n",
    "use_embedded_sent = tf_hub_embedding_layer([random_train_sentence]) \n",
    "print(f\"Random Sentence:\\n{random_train_sentence}\")\n",
    "print(f\"Sentence after embedding: \\n{use_embedded_sent[0][:30]}\")\n",
    "print(f\"Length of sentence embedding: {len(use_embedded_sent[0])}\")"
   ]
  },
  {
   "cell_type": "markdown",
   "id": "fc1bd283",
   "metadata": {},
   "source": [
    "### 4. Character Level Tokenization"
   ]
  },
  {
   "cell_type": "code",
   "execution_count": 45,
   "id": "36dfa32d",
   "metadata": {},
   "outputs": [],
   "source": [
    "# Creating a function too split sentences into charactrs\n",
    "def split_chars(text):\n",
    "    return \" \".join(list(text))\n",
    "\n",
    "# Text splitting non-character-level sequence into characters\n",
    "split_chars(random_train_sentence)"
   ]
  },
  {
   "cell_type": "code",
   "execution_count": 59,
   "id": "85ccf923",
   "metadata": {},
   "outputs": [
    {
     "data": {
      "text/plain": [
       "['T h e   e m e r g e n c e   o f   H I V   a s   a   c h r o n i c   c o n d i t i o n   m e a n s   t h a t   p e o p l e   l i v i n g   w i t h   H I V   a r e   r e q u i r e d   t o   t a k e   m o r e   r e s p o n s i b i l i t y   f o r   t h e   s e l f - m a n a g e m e n t   o f   t h e i r   c o n d i t i o n   ,   i n c l u d i n g   m a k i n g   p h y s i c a l   ,   e m o t i o n a l   a n d   s o c i a l   a d j u s t m e n t s   .',\n",
       " 'T h i s   p a p e r   d e s c r i b e s   t h e   d e s i g n   a n d   e v a l u a t i o n   o f   P o s i t i v e   O u t l o o k   ,   a n   o n l i n e   p r o g r a m   a i m i n g   t o   e n h a n c e   t h e   s e l f - m a n a g e m e n t   s k i l l s   o f   g a y   m e n   l i v i n g   w i t h   H I V   .',\n",
       " 'T h i s   s t u d y   i s   d e s i g n e d   a s   a   r a n d o m i s e d   c o n t r o l l e d   t r i a l   i n   w h i c h   m e n   l i v i n g   w i t h   H I V   i n   A u s t r a l i a   w i l l   b e   a s s i g n e d   t o   e i t h e r   a n   i n t e r v e n t i o n   g r o u p   o r   u s u a l   c a r e   c o n t r o l   g r o u p   .']"
      ]
     },
     "execution_count": 59,
     "metadata": {},
     "output_type": "execute_result"
    }
   ],
   "source": [
    "# Splitting sequence-level data splits into character-level data splits\n",
    "train_chars = [split_chars(sentence) for sentence in train_sentences]\n",
    "test_chars = [split_chars(sentence) for sentence in test_sentences]\n",
    "val_chars = [split_chars(sentence) for sentence in val_sentences]\n",
    "train_chars[:3]"
   ]
  },
  {
   "cell_type": "code",
   "execution_count": 60,
   "id": "5ed4d300",
   "metadata": {},
   "outputs": [
    {
     "data": {
      "text/plain": [
       "147.82646377869133"
      ]
     },
     "execution_count": 60,
     "metadata": {},
     "output_type": "execute_result"
    }
   ],
   "source": [
    "# Average Character length\n",
    "char_lens = [len(sentence) for sentence in train_sentences]\n",
    "mean_char_len = np.mean(char_lens)\n",
    "mean_char_len"
   ]
  },
  {
   "cell_type": "code",
   "execution_count": 62,
   "id": "35f53b63",
   "metadata": {},
   "outputs": [
    {
     "data": {
      "text/plain": [
       "(array([1.73008e+05, 7.09771e+05, 7.07576e+05, 3.79589e+05, 1.53041e+05,\n",
       "        5.52560e+04, 1.99370e+04, 7.95500e+03, 3.07000e+03, 1.35700e+03,\n",
       "        6.31000e+02, 3.15000e+02, 1.49000e+02, 8.50000e+01, 5.60000e+01,\n",
       "        3.10000e+01, 1.20000e+01, 6.00000e+00, 8.00000e+00, 4.00000e+00,\n",
       "        1.00000e+00, 1.00000e+00, 1.00000e+00, 0.00000e+00, 0.00000e+00,\n",
       "        0.00000e+00, 0.00000e+00, 0.00000e+00, 0.00000e+00, 1.00000e+00]),\n",
       " array([1.00000000e+00, 6.01333333e+01, 1.19266667e+02, 1.78400000e+02,\n",
       "        2.37533333e+02, 2.96666667e+02, 3.55800000e+02, 4.14933333e+02,\n",
       "        4.74066667e+02, 5.33200000e+02, 5.92333333e+02, 6.51466667e+02,\n",
       "        7.10600000e+02, 7.69733333e+02, 8.28866667e+02, 8.88000000e+02,\n",
       "        9.47133333e+02, 1.00626667e+03, 1.06540000e+03, 1.12453333e+03,\n",
       "        1.18366667e+03, 1.24280000e+03, 1.30193333e+03, 1.36106667e+03,\n",
       "        1.42020000e+03, 1.47933333e+03, 1.53846667e+03, 1.59760000e+03,\n",
       "        1.65673333e+03, 1.71586667e+03, 1.77500000e+03]),\n",
       " <BarContainer object of 30 artists>)"
      ]
     },
     "execution_count": 62,
     "metadata": {},
     "output_type": "execute_result"
    },
    {
     "data": {
      "image/png": "[encoded data removed]",
      "text/plain": [
       "<Figure size 640x480 with 1 Axes>"
      ]
     },
     "metadata": {},
     "output_type": "display_data"
    }
   ],
   "source": [
    "# Distributuib if sequences ar character level\n",
    "plt.hist(char_lens, bins = 30)"
   ]
  },
  {
   "cell_type": "code",
   "execution_count": 63,
   "id": "30b2052b",
   "metadata": {},
   "outputs": [
    {
     "data": {
      "text/plain": [
       "338"
      ]
     },
     "execution_count": 63,
     "metadata": {},
     "output_type": "execute_result"
    }
   ],
   "source": [
    "# Length that covers 98% of data\n",
    "output_seq_char_len = int(np.percentile(char_lens, 98))\n",
    "output_seq_char_len"
   ]
  },
  {
   "cell_type": "code",
   "execution_count": 68,
   "id": "478045ac",
   "metadata": {},
   "outputs": [
    {
     "data": {
      "text/plain": [
       "('abcdefghijklmnopqrstuvwxyz0123456789!\"#$%&\\'()*+,-./:;<=>?@[\\\\]^_`{|}~', 68)"
      ]
     },
     "execution_count": 68,
     "metadata": {},
     "output_type": "execute_result"
    }
   ],
   "source": [
    "# Getting all keyboard characters\n",
    "import string\n",
    "alphabet = string.ascii_lowercase + string.digits + string.punctuation\n",
    "alphabet, len(alphabet)"
   ]
  },
  {
   "cell_type": "code",
   "execution_count": 69,
   "id": "17309648",
   "metadata": {},
   "outputs": [],
   "source": [
    "# Creating char-level token vectorizer\n",
    "NUM_CHAR_TOKENS = len(alphabet) + 2 # 2 for space and OOV tokens\n",
    "char_vectorizer = TextVectorization(max_tokens = NUM_CHAR_TOKENS,\n",
    "                                    output_sequence_length = output_seq_char_len,\n",
    "                                    name = \"Char_Vectorizer\")"
   ]
  },
  {
   "cell_type": "code",
   "execution_count": 70,
   "id": "da843957",
   "metadata": {},
   "outputs": [],
   "source": [
    "# Adapt character vectorizer to training character\n",
    "char_vectorizer.adapt(train_chars, batch_size = 128)"
   ]
  },
  {
   "cell_type": "code",
   "execution_count": 72,
   "id": "8d9912da",
   "metadata": {},
   "outputs": [
    {
     "name": "stdout",
     "output_type": "stream",
     "text": [
      "Number of different characters in vocab: 28\n",
      "Most common characters in vocab: ['', '[UNK]', 'e', 't', 'a', 'i', 'n', 'o', 'r', 's']\n",
      "Least commmon characters in vocab: ['k', 'x', 'z', 'q', 'j']\n"
     ]
    }
   ],
   "source": [
    "# Checking the character voacab\n",
    "char_vocab = char_vectorizer.get_vocabulary()\n",
    "print(f\"Number of different characters in vocab: {len(char_vocab)}\")\n",
    "print(f\"Most common characters in vocab: {char_vocab[:10]}\")\n",
    "print(f\"Least commmon characters in vocab: {char_vocab[-5:]}\")"
   ]
  },
  {
   "cell_type": "code",
   "execution_count": 74,
   "id": "3027f8a5",
   "metadata": {},
   "outputs": [
    {
     "name": "stdout",
     "output_type": "stream",
     "text": [
      "Charified Text: \n",
      "E i g h t y - f o u r   p a t i e n t s   w i t h   s k u l l   b a s e   t u m o r s   i n v o l v e d   i n   t h i s   r e s e a r c h   w e r e   r a n d o m i z e d   i n t o   @   g r o u p s   (   t e s t   g r o u p   a n d   c o n t r o l   g r o u p   )   ,   e a c h   w i t h   @   p a t i e n t s   .\n",
      "\n",
      "Vectorized Chars: \n",
      "[[ 2  5 18 13  3 19 17  7 16  8 14  4  3  5  2  6  3  9 20  5  3 13  9 23\n",
      "  16 11 11 22  4  9  2  3 16 15  7  8  9  5  6 21  7 11 21  2 10  5  6  3\n",
      "  13  5  9  8  2  9  2  4  8 12 13 20  2  8  2  8  4  6 10  7 15  5 25  2\n",
      "  10  5  6  3  7 18  8  7 16 14  9  3  2  9  3 18  8  7 16 14  4  6 10 12\n",
      "   7  6  3  8  7 11 18  8  7 16 14  2  4 12 13 20  5  3 13 14  4  3  5  2\n",
      "   6  3  9  0  0  0  0  0  0  0  0  0  0  0  0  0  0  0  0  0  0  0  0  0\n",
      "   0  0  0  0  0  0  0  0  0  0  0  0  0  0  0  0  0  0  0  0  0  0  0  0\n",
      "   0  0  0  0  0  0  0  0  0  0  0  0  0  0  0  0  0  0  0  0  0  0  0  0\n",
      "   0  0  0  0  0  0  0  0  0  0  0  0  0  0  0  0  0  0  0  0  0  0  0  0\n",
      "   0  0  0  0  0  0  0  0  0  0  0  0  0  0  0  0  0  0  0  0  0  0  0  0\n",
      "   0  0  0  0  0  0  0  0  0  0  0  0  0  0  0  0  0  0  0  0  0  0  0  0\n",
      "   0  0  0  0  0  0  0  0  0  0  0  0  0  0  0  0  0  0  0  0  0  0  0  0\n",
      "   0  0  0  0  0  0  0  0  0  0  0  0  0  0  0  0  0  0  0  0  0  0  0  0\n",
      "   0  0  0  0  0  0  0  0  0  0  0  0  0  0  0  0  0  0  0  0  0  0  0  0\n",
      "   0  0]]\n",
      "\n",
      "Length of Vectorized Chars: \n",
      "338\n"
     ]
    }
   ],
   "source": [
    "# Testing our character vectorizer\n",
    "random_train_char = random.choice(train_chars)\n",
    "vectorized_chars = char_vectorizer([random_train_char])\n",
    "print(f\"Charified Text: \\n{random_train_char}\")\n",
    "print(f\"\\nVectorized Chars: \\n{vectorized_chars}\")\n",
    "print(f\"\\nLength of Vectorized Chars: \\n{len(vectorized_chars[0])}\")"
   ]
  },
  {
   "cell_type": "markdown",
   "id": "576be2c4",
   "metadata": {},
   "source": [
    "### 5. Creating Character Level Embedding"
   ]
  },
  {
   "cell_type": "code",
   "execution_count": 76,
   "id": "8342a54a",
   "metadata": {},
   "outputs": [],
   "source": [
    "# Create char embedding\n",
    "from tensorflow.keras.layers import Embedding\n",
    "char_embedding = Embedding(input_dim = len(char_vocab),\n",
    "                           output_dim = 25,\n",
    "                           mask_zero = True,\n",
    "                           name = \"Char_Embedd\")"
   ]
  },
  {
   "cell_type": "code",
   "execution_count": 77,
   "id": "a5e0d761",
   "metadata": {},
   "outputs": [
    {
     "name": "stdout",
     "output_type": "stream",
     "text": [
      "Charified Text: \n",
      "E i g h t y - f o u r   p a t i e n t s   w i t h   s k u l l   b a s e   t u m o r s   i n v o l v e d   i n   t h i s   r e s e a r c h   w e r e   r a n d o m i z e d   i n t o   @   g r o u p s   (   t e s t   g r o u p   a n d   c o n t r o l   g r o u p   )   ,   e a c h   w i t h   @   p a t i e n t s   .\n",
      "Embedded Chars: \n",
      "[[[-0.00062526  0.02550408 -0.00743321 ... -0.02448945 -0.01450983\n",
      "    0.01488822]\n",
      "  [ 0.03120898  0.04514461  0.04033085 ...  0.034501    0.02778282\n",
      "   -0.00508169]\n",
      "  [-0.03336968 -0.04185022 -0.0427778  ... -0.04246883  0.04828042\n",
      "   -0.03702971]\n",
      "  ...\n",
      "  [ 0.02621192 -0.03961357 -0.00202983 ...  0.02466286  0.04530848\n",
      "    0.02905757]\n",
      "  [ 0.02621192 -0.03961357 -0.00202983 ...  0.02466286  0.04530848\n",
      "    0.02905757]\n",
      "  [ 0.02621192 -0.03961357 -0.00202983 ...  0.02466286  0.04530848\n",
      "    0.02905757]]]\n",
      "Character Embedding Shape: (1, 338, 25)\n"
     ]
    }
   ],
   "source": [
    "# Testing our character Embedding\n",
    "char_embed_sent = char_embedding(char_vectorizer([random_train_char])) \n",
    "print(f\"Charified Text: \\n{random_train_char}\")\n",
    "print(f\"Embedded Chars: \\n{char_embed_sent}\")\n",
    "print(f\"Character Embedding Shape: {char_embed_sent.shape}\")"
   ]
  },
  {
   "cell_type": "markdown",
   "id": "e3fa6516",
   "metadata": {},
   "source": [
    "### 6. Positional Embeddings"
   ]
  },
  {
   "cell_type": "code",
   "execution_count": 80,
   "id": "3426c890",
   "metadata": {},
   "outputs": [
    {
     "data": {
      "text/plain": [
       "0     190654\n",
       "1     190654\n",
       "2     190654\n",
       "3     190644\n",
       "4     190357\n",
       "5     189080\n",
       "6     185551\n",
       "7     177967\n",
       "8     164187\n",
       "9     143835\n",
       "10    117871\n",
       "11     90168\n",
       "12     64864\n",
       "13     44350\n",
       "14     29186\n",
       "15     18785\n",
       "16     11803\n",
       "17      7392\n",
       "18      4688\n",
       "19      3030\n",
       "20      1925\n",
       "21      1268\n",
       "22       814\n",
       "23       564\n",
       "24       398\n",
       "25       288\n",
       "26       214\n",
       "27       159\n",
       "28       118\n",
       "29        88\n",
       "30        64\n",
       "31        55\n",
       "32        42\n",
       "33        34\n",
       "34        21\n",
       "35        17\n",
       "36        12\n",
       "37         9\n",
       "40         6\n",
       "38         6\n",
       "39         6\n",
       "41         5\n",
       "42         5\n",
       "43         5\n",
       "44         4\n",
       "45         4\n",
       "46         3\n",
       "47         2\n",
       "48         2\n",
       "49         2\n",
       "50         1\n",
       "Name: line_number, dtype: int64"
      ]
     },
     "execution_count": 80,
     "metadata": {},
     "output_type": "execute_result"
    }
   ],
   "source": [
    "# Checking different number of lines\n",
    "train_df[\"line_number\"].value_counts()"
   ]
  },
  {
   "cell_type": "code",
   "execution_count": 82,
   "id": "74c485d8",
   "metadata": {},
   "outputs": [
    {
     "data": {
      "text/plain": [
       "<AxesSubplot:ylabel='Frequency'>"
      ]
     },
     "execution_count": 82,
     "metadata": {},
     "output_type": "execute_result"
    },
    {
     "data": {
      "image/png": "[encoded data removed]",
      "text/plain": [
       "<Figure size 640x480 with 1 Axes>"
      ]
     },
     "metadata": {},
     "output_type": "display_data"
    }
   ],
   "source": [
    "# Checking the distribution\n",
    "train_df.line_number.plot.hist(bins = 15)"
   ]
  },
  {
   "cell_type": "code",
   "execution_count": 95,
   "id": "82eaf7f0",
   "metadata": {},
   "outputs": [
    {
     "data": {
      "text/plain": [
       "(<tf.Tensor: shape=(10, 18), dtype=float32, numpy=\n",
       " array([[1., 0., 0., 0., 0., 0., 0., 0., 0., 0., 0., 0., 0., 0., 0., 0.,\n",
       "         0., 0.],\n",
       "        [0., 1., 0., 0., 0., 0., 0., 0., 0., 0., 0., 0., 0., 0., 0., 0.,\n",
       "         0., 0.],\n",
       "        [0., 0., 1., 0., 0., 0., 0., 0., 0., 0., 0., 0., 0., 0., 0., 0.,\n",
       "         0., 0.],\n",
       "        [0., 0., 0., 1., 0., 0., 0., 0., 0., 0., 0., 0., 0., 0., 0., 0.,\n",
       "         0., 0.],\n",
       "        [0., 0., 0., 0., 1., 0., 0., 0., 0., 0., 0., 0., 0., 0., 0., 0.,\n",
       "         0., 0.],\n",
       "        [0., 0., 0., 0., 0., 1., 0., 0., 0., 0., 0., 0., 0., 0., 0., 0.,\n",
       "         0., 0.],\n",
       "        [0., 0., 0., 0., 0., 0., 1., 0., 0., 0., 0., 0., 0., 0., 0., 0.,\n",
       "         0., 0.],\n",
       "        [0., 0., 0., 0., 0., 0., 0., 1., 0., 0., 0., 0., 0., 0., 0., 0.,\n",
       "         0., 0.],\n",
       "        [0., 0., 0., 0., 0., 0., 0., 0., 1., 0., 0., 0., 0., 0., 0., 0.,\n",
       "         0., 0.],\n",
       "        [0., 0., 0., 0., 0., 0., 0., 0., 0., 1., 0., 0., 0., 0., 0., 0.,\n",
       "         0., 0.]], dtype=float32)>,\n",
       " TensorShape([2211861, 18]))"
      ]
     },
     "execution_count": 95,
     "metadata": {},
     "output_type": "execute_result"
    }
   ],
   "source": [
    "# Creating one-hot-encoded tensors of line_numbers\n",
    "import tensorflow as tf\n",
    "train_line_num_one_hot = tf.one_hot(train_df[\"line_number\"].to_numpy(), depth = 18) \n",
    "val_line_num_one_hot = tf.one_hot(val_df[\"line_number\"].to_numpy(), depth = 18) \n",
    "test_line_num_one_hot = tf.one_hot(test_df[\"line_number\"].to_numpy(), depth = 18) \n",
    "train_line_num_one_hot[:10], train_line_num_one_hot.shape"
   ]
  },
  {
   "cell_type": "code",
   "execution_count": 85,
   "id": "ad38889a",
   "metadata": {},
   "outputs": [
    {
     "data": {
      "text/plain": [
       "11    304733\n",
       "12    303648\n",
       "13    266682\n",
       "10    259640\n",
       "14    212296\n",
       "9     183168\n",
       "15    156015\n",
       "16    111712\n",
       "8     110240\n",
       "17     74987\n",
       "7      53088\n",
       "18     48672\n",
       "19     31502\n",
       "20     22100\n",
       "6      21174\n",
       "21     13797\n",
       "22      9988\n",
       "5       6385\n",
       "23      5750\n",
       "24      3984\n",
       "25      2750\n",
       "26      1924\n",
       "27      1485\n",
       "28      1148\n",
       "4       1148\n",
       "29       870\n",
       "30       720\n",
       "34       442\n",
       "32       416\n",
       "31       279\n",
       "33       264\n",
       "36       180\n",
       "35       140\n",
       "38       114\n",
       "37       111\n",
       "51        51\n",
       "50        50\n",
       "47        47\n",
       "46        46\n",
       "44        44\n",
       "41        41\n",
       "3         30\n",
       "Name: total_lines, dtype: int64"
      ]
     },
     "execution_count": 85,
     "metadata": {},
     "output_type": "execute_result"
    }
   ],
   "source": [
    "# Checking the Distribution number of total line\n",
    "train_df[\"total_lines\"].value_counts()"
   ]
  },
  {
   "cell_type": "code",
   "execution_count": 86,
   "id": "7070c3c6",
   "metadata": {},
   "outputs": [
    {
     "data": {
      "text/plain": [
       "<AxesSubplot:ylabel='Frequency'>"
      ]
     },
     "execution_count": 86,
     "metadata": {},
     "output_type": "execute_result"
    },
    {
     "data": {
      "image/png": "[encoded data removed]",
      "text/plain": [
       "<Figure size 640x480 with 1 Axes>"
      ]
     },
     "metadata": {},
     "output_type": "display_data"
    }
   ],
   "source": [
    "# Checking the Distribution\n",
    "train_df.total_lines.plot.hist(bins = 15)"
   ]
  },
  {
   "cell_type": "code",
   "execution_count": 87,
   "id": "8c8d5a86",
   "metadata": {},
   "outputs": [
    {
     "data": {
      "text/plain": [
       "21.0"
      ]
     },
     "execution_count": 87,
     "metadata": {},
     "output_type": "execute_result"
    }
   ],
   "source": [
    "# Checking coverage of 98% of data\n",
    "np.percentile(train_df.total_lines, 98)"
   ]
  },
  {
   "cell_type": "code",
   "execution_count": 88,
   "id": "6a498326",
   "metadata": {},
   "outputs": [
    {
     "data": {
      "text/plain": [
       "(TensorShape([2211861, 21]),\n",
       " <tf.Tensor: shape=(10, 21), dtype=float32, numpy=\n",
       " array([[0., 0., 0., 0., 0., 0., 0., 0., 0., 0., 0., 1., 0., 0., 0., 0.,\n",
       "         0., 0., 0., 0., 0.],\n",
       "        [0., 0., 0., 0., 0., 0., 0., 0., 0., 0., 0., 1., 0., 0., 0., 0.,\n",
       "         0., 0., 0., 0., 0.],\n",
       "        [0., 0., 0., 0., 0., 0., 0., 0., 0., 0., 0., 1., 0., 0., 0., 0.,\n",
       "         0., 0., 0., 0., 0.],\n",
       "        [0., 0., 0., 0., 0., 0., 0., 0., 0., 0., 0., 1., 0., 0., 0., 0.,\n",
       "         0., 0., 0., 0., 0.],\n",
       "        [0., 0., 0., 0., 0., 0., 0., 0., 0., 0., 0., 1., 0., 0., 0., 0.,\n",
       "         0., 0., 0., 0., 0.],\n",
       "        [0., 0., 0., 0., 0., 0., 0., 0., 0., 0., 0., 1., 0., 0., 0., 0.,\n",
       "         0., 0., 0., 0., 0.],\n",
       "        [0., 0., 0., 0., 0., 0., 0., 0., 0., 0., 0., 1., 0., 0., 0., 0.,\n",
       "         0., 0., 0., 0., 0.],\n",
       "        [0., 0., 0., 0., 0., 0., 0., 0., 0., 0., 0., 1., 0., 0., 0., 0.,\n",
       "         0., 0., 0., 0., 0.],\n",
       "        [0., 0., 0., 0., 0., 0., 0., 0., 0., 0., 0., 1., 0., 0., 0., 0.,\n",
       "         0., 0., 0., 0., 0.],\n",
       "        [0., 0., 0., 0., 0., 0., 0., 0., 0., 0., 0., 1., 0., 0., 0., 0.,\n",
       "         0., 0., 0., 0., 0.]], dtype=float32)>)"
      ]
     },
     "execution_count": 88,
     "metadata": {},
     "output_type": "execute_result"
    }
   ],
   "source": [
    "# Creating one-hot encoded tensors of total_lines\n",
    "train_total_lines_one_hot = tf.one_hot(train_df[\"total_lines\"].to_numpy(), depth=21)\n",
    "val_total_lines_one_hot = tf.one_hot(val_df[\"total_lines\"].to_numpy(), depth=21)\n",
    "test_total_lines_one_hot = tf.one_hot(test_df[\"total_lines\"].to_numpy(), depth=21)\n",
    "\n",
    "train_total_lines_one_hot.shape, train_total_lines_one_hot[:10]"
   ]
  },
  {
   "cell_type": "markdown",
   "id": "ebdda2aa",
   "metadata": {},
   "source": [
    "## Preparing the Datasets"
   ]
  },
  {
   "cell_type": "code",
   "execution_count": 91,
   "id": "1da69bba",
   "metadata": {},
   "outputs": [],
   "source": [
    "def create_dataset(x, y, batch_size=32):\n",
    "    \"\"\"\n",
    "    Takes in dependent and independent data items or numpy arrays or tensors and\n",
    "    creates a tf.data.Dataset object with prefectching \n",
    "    \"\"\"\n",
    "    data = tf.data.Dataset.from_tensor_slices(x)\n",
    "    labels = tf.data.Dataset.from_tensor_slices(y)\n",
    "    dataset = tf.data.Dataset.zip((data, labels))\n",
    "    \n",
    "    return dataset.batch(batch_size).prefetch(tf.data.AUTOTUNE)"
   ]
  },
  {
   "cell_type": "code",
   "execution_count": null,
   "id": "594b881c",
   "metadata": {},
   "outputs": [],
   "source": [
    "# Creating training, testing and validation datasets\n",
    "# Training Dataset\n",
    "train_pos_char_token_data = tf.data.Dataset.from_tensor_slices((train_line_num_one_hot,\n",
    "                                                                train_total_lines_one_hot,\n",
    "                                                                train_sentences,\n",
    "                                                                train_chars))\n",
    "train_pos_char_token_labels = tf.data.Dataset.from_tensor_slices(train_labels_one_hot)\n",
    "train_pos_char_token_dataset = tf.data.Dataset.zip((train_pos_char_token_data, train_pos_char_token_labels))\n",
    "train_pos_char_token_dataset = train_pos_char_token_dataset.batch(128).prefetch(tf.data.AUTOTUNE)\n",
    "\n",
    "# Validation Dataset\n",
    "val_pos_char_token_data = tf.data.Dataset.from_tensor_slices((val_line_num_one_hot,\n",
    "                                                              val_total_lines_one_hot,\n",
    "                                                              val_sentences,\n",
    "                                                              val_chars))\n",
    "val_pos_char_token_labels = tf.data.Dataset.from_tensor_slices(val_labels_one_hot)\n",
    "val_pos_char_token_dataset = tf.data.Dataset.zip((val_pos_char_token_data, val_pos_char_token_labels))\n",
    "val_pos_char_token_dataset = val_pos_char_token_dataset.batch(128).prefetch(tf.data.AUTOTUNE)\n"
   ]
  },
  {
   "cell_type": "code",
   "execution_count": 92,
   "id": "adacb81c",
   "metadata": {},
   "outputs": [],
   "source": [
    "train_dataset = create_dataset(x = (train_line_num_one_hot,\n",
    "                                    train_total_lines_one_hot,\n",
    "                                    train_sentences,\n",
    "                                    train_chars),\n",
    "                               y = train_labels_one_hot,\n",
    "                               batch_size = 128)"
   ]
  },
  {
   "cell_type": "code",
   "execution_count": 93,
   "id": "68d53489",
   "metadata": {},
   "outputs": [
    {
     "data": {
      "text/plain": [
       "<PrefetchDataset element_spec=((TensorSpec(shape=(None, 18), dtype=tf.float32, name=None), TensorSpec(shape=(None, 21), dtype=tf.float32, name=None), TensorSpec(shape=(None,), dtype=tf.string, name=None), TensorSpec(shape=(None,), dtype=tf.string, name=None)), TensorSpec(shape=(None, 5), dtype=tf.float64, name=None))>"
      ]
     },
     "execution_count": 93,
     "metadata": {},
     "output_type": "execute_result"
    }
   ],
   "source": [
    "train_dataset"
   ]
  },
  {
   "cell_type": "code",
   "execution_count": 96,
   "id": "9d219802",
   "metadata": {},
   "outputs": [
    {
     "data": {
      "text/plain": [
       "(<PrefetchDataset element_spec=((TensorSpec(shape=(None, 18), dtype=tf.float32, name=None), TensorSpec(shape=(None, 21), dtype=tf.float32, name=None), TensorSpec(shape=(None,), dtype=tf.string, name=None), TensorSpec(shape=(None,), dtype=tf.string, name=None)), TensorSpec(shape=(None, 5), dtype=tf.float64, name=None))>,\n",
       " <PrefetchDataset element_spec=((TensorSpec(shape=(None, 18), dtype=tf.float32, name=None), TensorSpec(shape=(None, 21), dtype=tf.float32, name=None), TensorSpec(shape=(None,), dtype=tf.string, name=None), TensorSpec(shape=(None,), dtype=tf.string, name=None)), TensorSpec(shape=(None, 5), dtype=tf.float64, name=None))>)"
      ]
     },
     "execution_count": 96,
     "metadata": {},
     "output_type": "execute_result"
    }
   ],
   "source": [
    "val_dataset = create_dataset(x = (val_line_num_one_hot,\n",
    "                                  val_total_lines_one_hot,\n",
    "                                  val_sentences,\n",
    "                                  val_chars),\n",
    "                             y = val_labels_one_hot,\n",
    "                             batch_size=128)\n",
    "\n",
    "test_dataset = create_dataset(x = (test_line_num_one_hot,\n",
    "                                    test_total_lines_one_hot,\n",
    "                                    test_sentences,\n",
    "                                    test_chars),\n",
    "                              y = test_labels_one_hot,\n",
    "                              batch_size=128)\n",
    "\n",
    "val_dataset, test_dataset"
   ]
  },
  {
   "cell_type": "markdown",
   "id": "9abbcd44",
   "metadata": {},
   "source": [
    "## Creating the Model (Tribrid Embedding Model)"
   ]
  },
  {
   "cell_type": "code",
   "execution_count": 98,
   "id": "9136ab60",
   "metadata": {},
   "outputs": [],
   "source": [
    "from tensorflow.keras import layers\n",
    "\n",
    "# 1. Creating a token_input model\n",
    "token_ip = layers.Input(shape=[], dtype=\"string\", name=\"token_input\")\n",
    "token_embeddings = tf_hub_embedding_layer(token_ip)\n",
    "token_op = layers.Dense(128, activation=\"relu\")(token_embeddings)\n",
    "token_model = tf.keras.Model(inputs = token_ip,\n",
    "                             outputs = token_op)\n",
    "\n",
    "# 2. Creating a character_input model\n",
    "char_ip = layers.Input(shape=(1,), dtype=\"string\", name=\"char_input\")\n",
    "char_vectors = char_vectorizer(char_ip)\n",
    "char_embeddings = char_embedding(char_vectors)\n",
    "char_bi_lstm = layers.Bidirectional(layers.LSTM(32))(char_embeddings)\n",
    "char_model = tf.keras.Model(inputs=char_ip,\n",
    "                            outputs=char_bi_lstm)\n",
    "\n",
    "# 3. Creating a Line Number Input Model\n",
    "line_num_ip = layers.Input(shape=(18,), dtype=tf.int32, name=\"line_number_input\")\n",
    "x = layers.Dense(32, activation=\"relu\")(line_num_ip)\n",
    "line_num_model = tf.keras.Model(inputs = line_num_ip,\n",
    "                                outputs = x)\n",
    "\n",
    "# 4. Creating a total line input model\n",
    "total_lines_ip = layers.Input(shape=(21,), dtype=tf.int32, name=\"total_lines_input\")\n",
    "y = layers.Dense(32, activation=\"relu\")(total_lines_ip)\n",
    "total_lines_model = tf.keras.Model(inputs = total_lines_ip,\n",
    "                                   outputs = y)\n",
    "\n",
    "# 5. Combine token and char embeddings into a hybrid embedding\n",
    "combined_embeddings = layers.Concatenate(name=\"token_char_hybrid_embedding\")([token_model.output,\n",
    "                                                                              char_model.output])\n",
    "z = layers.Dense(256, activation=\"relu\")(combined_embeddings)\n",
    "z = layers.Dropout(0.4)(z)\n",
    "\n",
    "# 6. Combine positional embeddings with combined token-char embeddings into a tribrid embedding\n",
    "z = layers.Concatenate(name = \"token_char_positional_embedding\")([line_num_model.output,\n",
    "                                                                  total_lines_model.output,\n",
    "                                                                  z])\n",
    "#z = layers.Dropout(0.2)\n",
    "\n",
    "# 7. Create an output layer\n",
    "output_layer = layers.Dense(5, activation=\"softmax\", name=\"output_layer\")(z)\n",
    "\n",
    "# 8. Put the model together\n",
    "model_5 = tf.keras.Model(inputs=[line_num_model.input,\n",
    "                                 total_lines_model.input,\n",
    "                                 token_model.input,\n",
    "                                 char_model.input],\n",
    "                         outputs=output_layer)"
   ]
  },
  {
   "cell_type": "code",
   "execution_count": 99,
   "id": "fa9da1f7",
   "metadata": {},
   "outputs": [
    {
     "name": "stdout",
     "output_type": "stream",
     "text": [
      "Model: \"model_4\"\n",
      "__________________________________________________________________________________________________\n",
      " Layer (type)                   Output Shape         Param #     Connected to                     \n",
      "==================================================================================================\n",
      " char_input (InputLayer)        [(None, 1)]          0           []                               \n",
      "                                                                                                  \n",
      " token_input (InputLayer)       [(None,)]            0           []                               \n",
      "                                                                                                  \n",
      " Char_Vectorizer (TextVectoriza  (None, 338)         0           ['char_input[0][0]']             \n",
      " tion)                                                                                            \n",
      "                                                                                                  \n",
      " Universal_Sentence_Encoder (Ke  (None, 512)         256797824   ['token_input[0][0]']            \n",
      " rasLayer)                                                                                        \n",
      "                                                                                                  \n",
      " Char_Embedd (Embedding)        (None, 338, 25)      700         ['Char_Vectorizer[0][0]']        \n",
      "                                                                                                  \n",
      " dense (Dense)                  (None, 128)          65664       ['Universal_Sentence_Encoder[0][0\n",
      "                                                                 ]']                              \n",
      "                                                                                                  \n",
      " bidirectional (Bidirectional)  (None, 64)           14848       ['Char_Embedd[0][0]']            \n",
      "                                                                                                  \n",
      " token_char_hybrid_embedding (C  (None, 192)         0           ['dense[0][0]',                  \n",
      " oncatenate)                                                      'bidirectional[0][0]']          \n",
      "                                                                                                  \n",
      " line_number_input (InputLayer)  [(None, 18)]        0           []                               \n",
      "                                                                                                  \n",
      " total_lines_input (InputLayer)  [(None, 21)]        0           []                               \n",
      "                                                                                                  \n",
      " dense_3 (Dense)                (None, 256)          49408       ['token_char_hybrid_embedding[0][\n",
      "                                                                 0]']                             \n",
      "                                                                                                  \n",
      " dense_1 (Dense)                (None, 32)           608         ['line_number_input[0][0]']      \n",
      "                                                                                                  \n",
      " dense_2 (Dense)                (None, 32)           704         ['total_lines_input[0][0]']      \n",
      "                                                                                                  \n",
      " dropout (Dropout)              (None, 256)          0           ['dense_3[0][0]']                \n",
      "                                                                                                  \n",
      " token_char_positional_embeddin  (None, 320)         0           ['dense_1[0][0]',                \n",
      " g (Concatenate)                                                  'dense_2[0][0]',                \n",
      "                                                                  'dropout[0][0]']                \n",
      "                                                                                                  \n",
      " output_layer (Dense)           (None, 5)            1605        ['token_char_positional_embedding\n",
      "                                                                 [0][0]']                         \n",
      "                                                                                                  \n",
      "==================================================================================================\n",
      "Total params: 256,931,361\n",
      "Trainable params: 133,537\n",
      "Non-trainable params: 256,797,824\n",
      "__________________________________________________________________________________________________\n"
     ]
    }
   ],
   "source": [
    "# Checking the model summary\n",
    "model_5.summary()"
   ]
  },
  {
   "cell_type": "code",
   "execution_count": 102,
   "id": "e7a7633c",
   "metadata": {},
   "outputs": [
    {
     "data": {
      "image/png": "[encoded data removed]",
      "text/plain": [
       "<IPython.core.display.Image object>"
      ]
     },
     "execution_count": 102,
     "metadata": {},
     "output_type": "execute_result"
    }
   ],
   "source": [
    "# Plotting the model\n",
    "from tensorflow.keras.utils import plot_model\n",
    "plot_model(model_5, show_shapes = True)"
   ]
  },
  {
   "cell_type": "code",
   "execution_count": 114,
   "id": "3926bb5d",
   "metadata": {},
   "outputs": [],
   "source": [
    "# Creating an Early Stopping callbacks\n",
    "EarlyStop = tf.keras.callbacks.EarlyStopping(monitor='val_loss',\n",
    "                                             min_delta = 0.01,\n",
    "                                             patience=1)"
   ]
  },
  {
   "cell_type": "code",
   "execution_count": 107,
   "id": "a3763186",
   "metadata": {},
   "outputs": [],
   "source": [
    "# Compiling the model\n",
    "model_5.compile(loss = tf.keras.losses.CategoricalCrossentropy(label_smoothing=0.25),\n",
    "                optimizer=tf.keras.optimizers.Adam(learning_rate = 0.0001),\n",
    "                metrics = [\"accuracy\"])"
   ]
  },
  {
   "cell_type": "code",
   "execution_count": 108,
   "id": "c4aa90d8",
   "metadata": {
    "scrolled": true
   },
   "outputs": [
    {
     "name": "stdout",
     "output_type": "stream",
     "text": [
      "Epoch 1/50\n",
      "864/864 [==============================] - 206s 225ms/step - loss: 1.2608 - accuracy: 0.6363 - val_loss: 1.1318 - val_accuracy: 0.7344\n",
      "Epoch 2/50\n",
      "864/864 [==============================] - 187s 217ms/step - loss: 1.1098 - accuracy: 0.7668 - val_loss: 1.0759 - val_accuracy: 0.7947\n",
      "Epoch 3/50\n",
      "864/864 [==============================] - 218s 253ms/step - loss: 1.0675 - accuracy: 0.7989 - val_loss: 1.0492 - val_accuracy: 0.8146\n",
      "Epoch 4/50\n",
      "864/864 [==============================] - 163s 189ms/step - loss: 1.0459 - accuracy: 0.8120 - val_loss: 1.0386 - val_accuracy: 0.8153\n",
      "Epoch 5/50\n",
      "864/864 [==============================] - 199s 230ms/step - loss: 1.0366 - accuracy: 0.8197 - val_loss: 1.0296 - val_accuracy: 0.8217\n",
      "Epoch 6/50\n",
      "864/864 [==============================] - 187s 216ms/step - loss: 1.0280 - accuracy: 0.8269 - val_loss: 1.0243 - val_accuracy: 0.8303\n",
      "Epoch 7/50\n",
      "864/864 [==============================] - 172s 199ms/step - loss: 1.0212 - accuracy: 0.8318 - val_loss: 1.0195 - val_accuracy: 0.8338\n",
      "Epoch 8/50\n",
      "864/864 [==============================] - 197s 228ms/step - loss: 1.0171 - accuracy: 0.8336 - val_loss: 1.0180 - val_accuracy: 0.8381\n",
      "Epoch 9/50\n",
      "864/864 [==============================] - 246s 285ms/step - loss: 1.0152 - accuracy: 0.8361 - val_loss: 1.0187 - val_accuracy: 0.8402\n",
      "Epoch 10/50\n",
      "864/864 [==============================] - 413s 479ms/step - loss: 1.0096 - accuracy: 0.8415 - val_loss: 1.0108 - val_accuracy: 0.8466\n",
      "Epoch 11/50\n",
      "864/864 [==============================] - 268s 311ms/step - loss: 1.0076 - accuracy: 0.8426 - val_loss: 1.0097 - val_accuracy: 0.8409\n",
      "Epoch 12/50\n",
      "864/864 [==============================] - 222s 257ms/step - loss: 1.0063 - accuracy: 0.8440 - val_loss: 1.0088 - val_accuracy: 0.8445\n",
      "Epoch 13/50\n",
      "864/864 [==============================] - 234s 271ms/step - loss: 1.0065 - accuracy: 0.8434 - val_loss: 1.0070 - val_accuracy: 0.8395\n",
      "Epoch 14/50\n",
      "864/864 [==============================] - 267s 310ms/step - loss: 1.0018 - accuracy: 0.8469 - val_loss: 1.0059 - val_accuracy: 0.8445\n",
      "Epoch 15/50\n",
      "864/864 [==============================] - 293s 339ms/step - loss: 0.9997 - accuracy: 0.8471 - val_loss: 1.0038 - val_accuracy: 0.8445\n",
      "Epoch 16/50\n",
      "128/864 [===>..........................] - ETA: 3:05 - loss: 0.9962 - accuracy: 0.8510"
     ]
    },
    {
     "ename": "KeyboardInterrupt",
     "evalue": "",
     "output_type": "error",
     "traceback": [
      "\u001b[1;31m---------------------------------------------------------------------------\u001b[0m",
      "\u001b[1;31mKeyboardInterrupt\u001b[0m                         Traceback (most recent call last)",
      "Cell \u001b[1;32mIn[108], line 2\u001b[0m\n\u001b[0;32m      1\u001b[0m \u001b[38;5;66;03m# Fitting the model\u001b[39;00m\n\u001b[1;32m----> 2\u001b[0m history \u001b[38;5;241m=\u001b[39m \u001b[43mmodel_5\u001b[49m\u001b[38;5;241;43m.\u001b[39;49m\u001b[43mfit\u001b[49m\u001b[43m(\u001b[49m\u001b[43mtrain_dataset\u001b[49m\u001b[43m,\u001b[49m\n\u001b[0;32m      3\u001b[0m \u001b[43m                      \u001b[49m\u001b[43msteps_per_epoch\u001b[49m\u001b[38;5;241;43m=\u001b[39;49m\u001b[38;5;28;43mint\u001b[39;49m\u001b[43m(\u001b[49m\u001b[38;5;241;43m0.05\u001b[39;49m\u001b[43m \u001b[49m\u001b[38;5;241;43m*\u001b[39;49m\u001b[43m \u001b[49m\u001b[38;5;28;43mlen\u001b[39;49m\u001b[43m(\u001b[49m\u001b[43mtrain_dataset\u001b[49m\u001b[43m)\u001b[49m\u001b[43m)\u001b[49m\u001b[43m,\u001b[49m\n\u001b[0;32m      4\u001b[0m \u001b[43m                      \u001b[49m\u001b[43mepochs\u001b[49m\u001b[43m \u001b[49m\u001b[38;5;241;43m=\u001b[39;49m\u001b[43m \u001b[49m\u001b[38;5;241;43m50\u001b[39;49m\u001b[43m,\u001b[49m\n\u001b[0;32m      5\u001b[0m \u001b[43m                      \u001b[49m\u001b[43mvalidation_data\u001b[49m\u001b[38;5;241;43m=\u001b[39;49m\u001b[43mval_dataset\u001b[49m\u001b[43m,\u001b[49m\n\u001b[0;32m      6\u001b[0m \u001b[43m                      \u001b[49m\u001b[43mvalidation_steps\u001b[49m\u001b[38;5;241;43m=\u001b[39;49m\u001b[38;5;28;43mint\u001b[39;49m\u001b[43m(\u001b[49m\u001b[38;5;241;43m0.05\u001b[39;49m\u001b[43m \u001b[49m\u001b[38;5;241;43m*\u001b[39;49m\u001b[43m \u001b[49m\u001b[38;5;28;43mlen\u001b[39;49m\u001b[43m(\u001b[49m\u001b[43mval_dataset\u001b[49m\u001b[43m)\u001b[49m\u001b[43m)\u001b[49m\u001b[43m,\u001b[49m\n\u001b[0;32m      7\u001b[0m \u001b[43m                      \u001b[49m\u001b[43mcallbacks\u001b[49m\u001b[38;5;241;43m=\u001b[39;49m\u001b[43m[\u001b[49m\u001b[43mEarlyStop\u001b[49m\u001b[43m]\u001b[49m\u001b[43m)\u001b[49m\n",
      "File \u001b[1;32m~\\anaconda3\\lib\\site-packages\\keras\\utils\\traceback_utils.py:64\u001b[0m, in \u001b[0;36mfilter_traceback.<locals>.error_handler\u001b[1;34m(*args, **kwargs)\u001b[0m\n\u001b[0;32m     62\u001b[0m filtered_tb \u001b[38;5;241m=\u001b[39m \u001b[38;5;28;01mNone\u001b[39;00m\n\u001b[0;32m     63\u001b[0m \u001b[38;5;28;01mtry\u001b[39;00m:\n\u001b[1;32m---> 64\u001b[0m   \u001b[38;5;28;01mreturn\u001b[39;00m fn(\u001b[38;5;241m*\u001b[39margs, \u001b[38;5;241m*\u001b[39m\u001b[38;5;241m*\u001b[39mkwargs)\n\u001b[0;32m     65\u001b[0m \u001b[38;5;28;01mexcept\u001b[39;00m \u001b[38;5;167;01mException\u001b[39;00m \u001b[38;5;28;01mas\u001b[39;00m e:  \u001b[38;5;66;03m# pylint: disable=broad-except\u001b[39;00m\n\u001b[0;32m     66\u001b[0m   filtered_tb \u001b[38;5;241m=\u001b[39m _process_traceback_frames(e\u001b[38;5;241m.\u001b[39m__traceback__)\n",
      "File \u001b[1;32m~\\anaconda3\\lib\\site-packages\\keras\\engine\\training.py:1384\u001b[0m, in \u001b[0;36mModel.fit\u001b[1;34m(self, x, y, batch_size, epochs, verbose, callbacks, validation_split, validation_data, shuffle, class_weight, sample_weight, initial_epoch, steps_per_epoch, validation_steps, validation_batch_size, validation_freq, max_queue_size, workers, use_multiprocessing)\u001b[0m\n\u001b[0;32m   1377\u001b[0m \u001b[38;5;28;01mwith\u001b[39;00m tf\u001b[38;5;241m.\u001b[39mprofiler\u001b[38;5;241m.\u001b[39mexperimental\u001b[38;5;241m.\u001b[39mTrace(\n\u001b[0;32m   1378\u001b[0m     \u001b[38;5;124m'\u001b[39m\u001b[38;5;124mtrain\u001b[39m\u001b[38;5;124m'\u001b[39m,\n\u001b[0;32m   1379\u001b[0m     epoch_num\u001b[38;5;241m=\u001b[39mepoch,\n\u001b[0;32m   1380\u001b[0m     step_num\u001b[38;5;241m=\u001b[39mstep,\n\u001b[0;32m   1381\u001b[0m     batch_size\u001b[38;5;241m=\u001b[39mbatch_size,\n\u001b[0;32m   1382\u001b[0m     _r\u001b[38;5;241m=\u001b[39m\u001b[38;5;241m1\u001b[39m):\n\u001b[0;32m   1383\u001b[0m   callbacks\u001b[38;5;241m.\u001b[39mon_train_batch_begin(step)\n\u001b[1;32m-> 1384\u001b[0m   tmp_logs \u001b[38;5;241m=\u001b[39m \u001b[38;5;28;43mself\u001b[39;49m\u001b[38;5;241;43m.\u001b[39;49m\u001b[43mtrain_function\u001b[49m\u001b[43m(\u001b[49m\u001b[43miterator\u001b[49m\u001b[43m)\u001b[49m\n\u001b[0;32m   1385\u001b[0m   \u001b[38;5;28;01mif\u001b[39;00m data_handler\u001b[38;5;241m.\u001b[39mshould_sync:\n\u001b[0;32m   1386\u001b[0m     context\u001b[38;5;241m.\u001b[39masync_wait()\n",
      "File \u001b[1;32m~\\anaconda3\\lib\\site-packages\\tensorflow\\python\\util\\traceback_utils.py:150\u001b[0m, in \u001b[0;36mfilter_traceback.<locals>.error_handler\u001b[1;34m(*args, **kwargs)\u001b[0m\n\u001b[0;32m    148\u001b[0m filtered_tb \u001b[38;5;241m=\u001b[39m \u001b[38;5;28;01mNone\u001b[39;00m\n\u001b[0;32m    149\u001b[0m \u001b[38;5;28;01mtry\u001b[39;00m:\n\u001b[1;32m--> 150\u001b[0m   \u001b[38;5;28;01mreturn\u001b[39;00m fn(\u001b[38;5;241m*\u001b[39margs, \u001b[38;5;241m*\u001b[39m\u001b[38;5;241m*\u001b[39mkwargs)\n\u001b[0;32m    151\u001b[0m \u001b[38;5;28;01mexcept\u001b[39;00m \u001b[38;5;167;01mException\u001b[39;00m \u001b[38;5;28;01mas\u001b[39;00m e:\n\u001b[0;32m    152\u001b[0m   filtered_tb \u001b[38;5;241m=\u001b[39m _process_traceback_frames(e\u001b[38;5;241m.\u001b[39m__traceback__)\n",
      "File \u001b[1;32m~\\anaconda3\\lib\\site-packages\\tensorflow\\python\\eager\\def_function.py:915\u001b[0m, in \u001b[0;36mFunction.__call__\u001b[1;34m(self, *args, **kwds)\u001b[0m\n\u001b[0;32m    912\u001b[0m compiler \u001b[38;5;241m=\u001b[39m \u001b[38;5;124m\"\u001b[39m\u001b[38;5;124mxla\u001b[39m\u001b[38;5;124m\"\u001b[39m \u001b[38;5;28;01mif\u001b[39;00m \u001b[38;5;28mself\u001b[39m\u001b[38;5;241m.\u001b[39m_jit_compile \u001b[38;5;28;01melse\u001b[39;00m \u001b[38;5;124m\"\u001b[39m\u001b[38;5;124mnonXla\u001b[39m\u001b[38;5;124m\"\u001b[39m\n\u001b[0;32m    914\u001b[0m \u001b[38;5;28;01mwith\u001b[39;00m OptionalXlaContext(\u001b[38;5;28mself\u001b[39m\u001b[38;5;241m.\u001b[39m_jit_compile):\n\u001b[1;32m--> 915\u001b[0m   result \u001b[38;5;241m=\u001b[39m \u001b[38;5;28mself\u001b[39m\u001b[38;5;241m.\u001b[39m_call(\u001b[38;5;241m*\u001b[39margs, \u001b[38;5;241m*\u001b[39m\u001b[38;5;241m*\u001b[39mkwds)\n\u001b[0;32m    917\u001b[0m new_tracing_count \u001b[38;5;241m=\u001b[39m \u001b[38;5;28mself\u001b[39m\u001b[38;5;241m.\u001b[39mexperimental_get_tracing_count()\n\u001b[0;32m    918\u001b[0m without_tracing \u001b[38;5;241m=\u001b[39m (tracing_count \u001b[38;5;241m==\u001b[39m new_tracing_count)\n",
      "File \u001b[1;32m~\\anaconda3\\lib\\site-packages\\tensorflow\\python\\eager\\def_function.py:947\u001b[0m, in \u001b[0;36mFunction._call\u001b[1;34m(self, *args, **kwds)\u001b[0m\n\u001b[0;32m    944\u001b[0m   \u001b[38;5;28mself\u001b[39m\u001b[38;5;241m.\u001b[39m_lock\u001b[38;5;241m.\u001b[39mrelease()\n\u001b[0;32m    945\u001b[0m   \u001b[38;5;66;03m# In this case we have created variables on the first call, so we run the\u001b[39;00m\n\u001b[0;32m    946\u001b[0m   \u001b[38;5;66;03m# defunned version which is guaranteed to never create variables.\u001b[39;00m\n\u001b[1;32m--> 947\u001b[0m   \u001b[38;5;28;01mreturn\u001b[39;00m \u001b[38;5;28mself\u001b[39m\u001b[38;5;241m.\u001b[39m_stateless_fn(\u001b[38;5;241m*\u001b[39margs, \u001b[38;5;241m*\u001b[39m\u001b[38;5;241m*\u001b[39mkwds)  \u001b[38;5;66;03m# pylint: disable=not-callable\u001b[39;00m\n\u001b[0;32m    948\u001b[0m \u001b[38;5;28;01melif\u001b[39;00m \u001b[38;5;28mself\u001b[39m\u001b[38;5;241m.\u001b[39m_stateful_fn \u001b[38;5;129;01mis\u001b[39;00m \u001b[38;5;129;01mnot\u001b[39;00m \u001b[38;5;28;01mNone\u001b[39;00m:\n\u001b[0;32m    949\u001b[0m   \u001b[38;5;66;03m# Release the lock early so that multiple threads can perform the call\u001b[39;00m\n\u001b[0;32m    950\u001b[0m   \u001b[38;5;66;03m# in parallel.\u001b[39;00m\n\u001b[0;32m    951\u001b[0m   \u001b[38;5;28mself\u001b[39m\u001b[38;5;241m.\u001b[39m_lock\u001b[38;5;241m.\u001b[39mrelease()\n",
      "File \u001b[1;32m~\\anaconda3\\lib\\site-packages\\tensorflow\\python\\eager\\function.py:2956\u001b[0m, in \u001b[0;36mFunction.__call__\u001b[1;34m(self, *args, **kwargs)\u001b[0m\n\u001b[0;32m   2953\u001b[0m \u001b[38;5;28;01mwith\u001b[39;00m \u001b[38;5;28mself\u001b[39m\u001b[38;5;241m.\u001b[39m_lock:\n\u001b[0;32m   2954\u001b[0m   (graph_function,\n\u001b[0;32m   2955\u001b[0m    filtered_flat_args) \u001b[38;5;241m=\u001b[39m \u001b[38;5;28mself\u001b[39m\u001b[38;5;241m.\u001b[39m_maybe_define_function(args, kwargs)\n\u001b[1;32m-> 2956\u001b[0m \u001b[38;5;28;01mreturn\u001b[39;00m \u001b[43mgraph_function\u001b[49m\u001b[38;5;241;43m.\u001b[39;49m\u001b[43m_call_flat\u001b[49m\u001b[43m(\u001b[49m\n\u001b[0;32m   2957\u001b[0m \u001b[43m    \u001b[49m\u001b[43mfiltered_flat_args\u001b[49m\u001b[43m,\u001b[49m\u001b[43m \u001b[49m\u001b[43mcaptured_inputs\u001b[49m\u001b[38;5;241;43m=\u001b[39;49m\u001b[43mgraph_function\u001b[49m\u001b[38;5;241;43m.\u001b[39;49m\u001b[43mcaptured_inputs\u001b[49m\u001b[43m)\u001b[49m\n",
      "File \u001b[1;32m~\\anaconda3\\lib\\site-packages\\tensorflow\\python\\eager\\function.py:1853\u001b[0m, in \u001b[0;36mConcreteFunction._call_flat\u001b[1;34m(self, args, captured_inputs, cancellation_manager)\u001b[0m\n\u001b[0;32m   1849\u001b[0m possible_gradient_type \u001b[38;5;241m=\u001b[39m gradients_util\u001b[38;5;241m.\u001b[39mPossibleTapeGradientTypes(args)\n\u001b[0;32m   1850\u001b[0m \u001b[38;5;28;01mif\u001b[39;00m (possible_gradient_type \u001b[38;5;241m==\u001b[39m gradients_util\u001b[38;5;241m.\u001b[39mPOSSIBLE_GRADIENT_TYPES_NONE\n\u001b[0;32m   1851\u001b[0m     \u001b[38;5;129;01mand\u001b[39;00m executing_eagerly):\n\u001b[0;32m   1852\u001b[0m   \u001b[38;5;66;03m# No tape is watching; skip to running the function.\u001b[39;00m\n\u001b[1;32m-> 1853\u001b[0m   \u001b[38;5;28;01mreturn\u001b[39;00m \u001b[38;5;28mself\u001b[39m\u001b[38;5;241m.\u001b[39m_build_call_outputs(\u001b[38;5;28;43mself\u001b[39;49m\u001b[38;5;241;43m.\u001b[39;49m\u001b[43m_inference_function\u001b[49m\u001b[38;5;241;43m.\u001b[39;49m\u001b[43mcall\u001b[49m\u001b[43m(\u001b[49m\n\u001b[0;32m   1854\u001b[0m \u001b[43m      \u001b[49m\u001b[43mctx\u001b[49m\u001b[43m,\u001b[49m\u001b[43m \u001b[49m\u001b[43margs\u001b[49m\u001b[43m,\u001b[49m\u001b[43m \u001b[49m\u001b[43mcancellation_manager\u001b[49m\u001b[38;5;241;43m=\u001b[39;49m\u001b[43mcancellation_manager\u001b[49m\u001b[43m)\u001b[49m)\n\u001b[0;32m   1855\u001b[0m forward_backward \u001b[38;5;241m=\u001b[39m \u001b[38;5;28mself\u001b[39m\u001b[38;5;241m.\u001b[39m_select_forward_and_backward_functions(\n\u001b[0;32m   1856\u001b[0m     args,\n\u001b[0;32m   1857\u001b[0m     possible_gradient_type,\n\u001b[0;32m   1858\u001b[0m     executing_eagerly)\n\u001b[0;32m   1859\u001b[0m forward_function, args_with_tangents \u001b[38;5;241m=\u001b[39m forward_backward\u001b[38;5;241m.\u001b[39mforward()\n",
      "File \u001b[1;32m~\\anaconda3\\lib\\site-packages\\tensorflow\\python\\eager\\function.py:499\u001b[0m, in \u001b[0;36m_EagerDefinedFunction.call\u001b[1;34m(self, ctx, args, cancellation_manager)\u001b[0m\n\u001b[0;32m    497\u001b[0m \u001b[38;5;28;01mwith\u001b[39;00m _InterpolateFunctionError(\u001b[38;5;28mself\u001b[39m):\n\u001b[0;32m    498\u001b[0m   \u001b[38;5;28;01mif\u001b[39;00m cancellation_manager \u001b[38;5;129;01mis\u001b[39;00m \u001b[38;5;28;01mNone\u001b[39;00m:\n\u001b[1;32m--> 499\u001b[0m     outputs \u001b[38;5;241m=\u001b[39m \u001b[43mexecute\u001b[49m\u001b[38;5;241;43m.\u001b[39;49m\u001b[43mexecute\u001b[49m\u001b[43m(\u001b[49m\n\u001b[0;32m    500\u001b[0m \u001b[43m        \u001b[49m\u001b[38;5;28;43mstr\u001b[39;49m\u001b[43m(\u001b[49m\u001b[38;5;28;43mself\u001b[39;49m\u001b[38;5;241;43m.\u001b[39;49m\u001b[43msignature\u001b[49m\u001b[38;5;241;43m.\u001b[39;49m\u001b[43mname\u001b[49m\u001b[43m)\u001b[49m\u001b[43m,\u001b[49m\n\u001b[0;32m    501\u001b[0m \u001b[43m        \u001b[49m\u001b[43mnum_outputs\u001b[49m\u001b[38;5;241;43m=\u001b[39;49m\u001b[38;5;28;43mself\u001b[39;49m\u001b[38;5;241;43m.\u001b[39;49m\u001b[43m_num_outputs\u001b[49m\u001b[43m,\u001b[49m\n\u001b[0;32m    502\u001b[0m \u001b[43m        \u001b[49m\u001b[43minputs\u001b[49m\u001b[38;5;241;43m=\u001b[39;49m\u001b[43margs\u001b[49m\u001b[43m,\u001b[49m\n\u001b[0;32m    503\u001b[0m \u001b[43m        \u001b[49m\u001b[43mattrs\u001b[49m\u001b[38;5;241;43m=\u001b[39;49m\u001b[43mattrs\u001b[49m\u001b[43m,\u001b[49m\n\u001b[0;32m    504\u001b[0m \u001b[43m        \u001b[49m\u001b[43mctx\u001b[49m\u001b[38;5;241;43m=\u001b[39;49m\u001b[43mctx\u001b[49m\u001b[43m)\u001b[49m\n\u001b[0;32m    505\u001b[0m   \u001b[38;5;28;01melse\u001b[39;00m:\n\u001b[0;32m    506\u001b[0m     outputs \u001b[38;5;241m=\u001b[39m execute\u001b[38;5;241m.\u001b[39mexecute_with_cancellation(\n\u001b[0;32m    507\u001b[0m         \u001b[38;5;28mstr\u001b[39m(\u001b[38;5;28mself\u001b[39m\u001b[38;5;241m.\u001b[39msignature\u001b[38;5;241m.\u001b[39mname),\n\u001b[0;32m    508\u001b[0m         num_outputs\u001b[38;5;241m=\u001b[39m\u001b[38;5;28mself\u001b[39m\u001b[38;5;241m.\u001b[39m_num_outputs,\n\u001b[1;32m   (...)\u001b[0m\n\u001b[0;32m    511\u001b[0m         ctx\u001b[38;5;241m=\u001b[39mctx,\n\u001b[0;32m    512\u001b[0m         cancellation_manager\u001b[38;5;241m=\u001b[39mcancellation_manager)\n",
      "File \u001b[1;32m~\\anaconda3\\lib\\site-packages\\tensorflow\\python\\eager\\execute.py:54\u001b[0m, in \u001b[0;36mquick_execute\u001b[1;34m(op_name, num_outputs, inputs, attrs, ctx, name)\u001b[0m\n\u001b[0;32m     52\u001b[0m \u001b[38;5;28;01mtry\u001b[39;00m:\n\u001b[0;32m     53\u001b[0m   ctx\u001b[38;5;241m.\u001b[39mensure_initialized()\n\u001b[1;32m---> 54\u001b[0m   tensors \u001b[38;5;241m=\u001b[39m \u001b[43mpywrap_tfe\u001b[49m\u001b[38;5;241;43m.\u001b[39;49m\u001b[43mTFE_Py_Execute\u001b[49m\u001b[43m(\u001b[49m\u001b[43mctx\u001b[49m\u001b[38;5;241;43m.\u001b[39;49m\u001b[43m_handle\u001b[49m\u001b[43m,\u001b[49m\u001b[43m \u001b[49m\u001b[43mdevice_name\u001b[49m\u001b[43m,\u001b[49m\u001b[43m \u001b[49m\u001b[43mop_name\u001b[49m\u001b[43m,\u001b[49m\n\u001b[0;32m     55\u001b[0m \u001b[43m                                      \u001b[49m\u001b[43minputs\u001b[49m\u001b[43m,\u001b[49m\u001b[43m \u001b[49m\u001b[43mattrs\u001b[49m\u001b[43m,\u001b[49m\u001b[43m \u001b[49m\u001b[43mnum_outputs\u001b[49m\u001b[43m)\u001b[49m\n\u001b[0;32m     56\u001b[0m \u001b[38;5;28;01mexcept\u001b[39;00m core\u001b[38;5;241m.\u001b[39m_NotOkStatusException \u001b[38;5;28;01mas\u001b[39;00m e:\n\u001b[0;32m     57\u001b[0m   \u001b[38;5;28;01mif\u001b[39;00m name \u001b[38;5;129;01mis\u001b[39;00m \u001b[38;5;129;01mnot\u001b[39;00m \u001b[38;5;28;01mNone\u001b[39;00m:\n",
      "\u001b[1;31mKeyboardInterrupt\u001b[0m: "
     ]
    }
   ],
   "source": [
    "# Fitting the model\n",
    "history = model_5.fit(train_dataset,\n",
    "                      steps_per_epoch=int(0.05 * len(train_dataset)),\n",
    "                      epochs = 50,\n",
    "                      validation_data=val_dataset,\n",
    "                      validation_steps=int(0.05 * len(val_dataset)),\n",
    "                      callbacks=[EarlyStop])"
   ]
  },
  {
   "cell_type": "code",
   "execution_count": 113,
   "id": "8434bfaa",
   "metadata": {},
   "outputs": [
    {
     "ename": "NameError",
     "evalue": "name 'history' is not defined",
     "output_type": "error",
     "traceback": [
      "\u001b[1;31m---------------------------------------------------------------------------\u001b[0m",
      "\u001b[1;31mNameError\u001b[0m                                 Traceback (most recent call last)",
      "Cell \u001b[1;32mIn[113], line 1\u001b[0m\n\u001b[1;32m----> 1\u001b[0m \u001b[38;5;28mprint\u001b[39m(\u001b[43mhistory\u001b[49m)\n",
      "\u001b[1;31mNameError\u001b[0m: name 'history' is not defined"
     ]
    }
   ],
   "source": []
  },
  {
   "cell_type": "markdown",
   "id": "4550b62e",
   "metadata": {},
   "source": [
    "## Evaluating on Test and Complete Validation Dataset"
   ]
  },
  {
   "cell_type": "code",
   "execution_count": 115,
   "id": "7595cd0b",
   "metadata": {},
   "outputs": [
    {
     "name": "stdout",
     "output_type": "stream",
     "text": [
      "231/231 [==============================] - 16s 68ms/step - loss: 0.9978 - accuracy: 0.8505\n"
     ]
    },
    {
     "data": {
      "text/plain": [
       "[0.9978446960449219, 0.8504729866981506]"
      ]
     },
     "execution_count": 115,
     "metadata": {},
     "output_type": "execute_result"
    }
   ],
   "source": [
    "model_5.evaluate(test_dataset)"
   ]
  },
  {
   "cell_type": "code",
   "execution_count": 116,
   "id": "e7b008ca",
   "metadata": {},
   "outputs": [
    {
     "name": "stdout",
     "output_type": "stream",
     "text": [
      "227/227 [==============================] - 15s 68ms/step - loss: 0.9930 - accuracy: 0.8524\n"
     ]
    },
    {
     "data": {
      "text/plain": [
       "[0.9929583668708801, 0.8523780107498169]"
      ]
     },
     "execution_count": 116,
     "metadata": {},
     "output_type": "execute_result"
    }
   ],
   "source": [
    "model_5.evaluate(val_dataset)"
   ]
  },
  {
   "cell_type": "markdown",
   "id": "b73e4b47",
   "metadata": {},
   "source": [
    "## Saving the Model"
   ]
  },
  {
   "cell_type": "code",
   "execution_count": 117,
   "id": "9e5fead3",
   "metadata": {},
   "outputs": [
    {
     "name": "stderr",
     "output_type": "stream",
     "text": [
      "WARNING:absl:Found untraced functions such as lstm_cell_1_layer_call_fn, lstm_cell_1_layer_call_and_return_conditional_losses, lstm_cell_2_layer_call_fn, lstm_cell_2_layer_call_and_return_conditional_losses while saving (showing 4 of 4). These functions will not be directly callable after loading.\n"
     ]
    },
    {
     "name": "stdout",
     "output_type": "stream",
     "text": [
      "INFO:tensorflow:Assets written to: Skimlit_Big_Tribrid\\assets\n"
     ]
    },
    {
     "name": "stderr",
     "output_type": "stream",
     "text": [
      "INFO:tensorflow:Assets written to: Skimlit_Big_Tribrid\\assets\n",
      "WARNING:absl:<keras.layers.recurrent.LSTMCell object at 0x000001A7FC1EE790> has the same name 'LSTMCell' as a built-in Keras object. Consider renaming <class 'keras.layers.recurrent.LSTMCell'> to avoid naming conflicts when loading with `tf.keras.models.load_model`. If renaming is not possible, pass the object in the `custom_objects` parameter of the load function.\n",
      "WARNING:absl:<keras.layers.recurrent.LSTMCell object at 0x000001A8035F4520> has the same name 'LSTMCell' as a built-in Keras object. Consider renaming <class 'keras.layers.recurrent.LSTMCell'> to avoid naming conflicts when loading with `tf.keras.models.load_model`. If renaming is not possible, pass the object in the `custom_objects` parameter of the load function.\n"
     ]
    }
   ],
   "source": [
    "model_5.save(\"Skimlit_Big_Tribrid\")"
   ]
  },
  {
   "cell_type": "markdown",
   "id": "4d4c41e1",
   "metadata": {},
   "source": [
    "## Loading the Model"
   ]
  },
  {
   "cell_type": "code",
   "execution_count": 49,
   "id": "662e9f6e",
   "metadata": {},
   "outputs": [],
   "source": [
    "import tensorflow as tf\n",
    "loaded_model = tf.keras.models.load_model(\"Skimlit_Big_Tribrid\")"
   ]
  },
  {
   "cell_type": "code",
   "execution_count": 120,
   "id": "a0a40a40",
   "metadata": {},
   "outputs": [
    {
     "name": "stdout",
     "output_type": "stream",
     "text": [
      "231/231 [==============================] - 24s 89ms/step - loss: 0.9978 - accuracy: 0.8505\n"
     ]
    },
    {
     "data": {
      "text/plain": [
       "[0.9978446960449219, 0.8504729866981506]"
      ]
     },
     "execution_count": 120,
     "metadata": {},
     "output_type": "execute_result"
    }
   ],
   "source": [
    "# Evaluating\n",
    "loaded_model.evaluate(test_dataset)"
   ]
  },
  {
   "cell_type": "code",
   "execution_count": 122,
   "id": "a26023ef",
   "metadata": {},
   "outputs": [
    {
     "data": {
      "text/plain": [
       "array([[0.42976603, 0.08243331, 0.04898008, 0.2841905 , 0.15463004],\n",
       "       [0.17626809, 0.059529  , 0.4603506 , 0.19567338, 0.10817891],\n",
       "       [0.17678967, 0.05599992, 0.19652526, 0.13574743, 0.43493772],\n",
       "       [0.08664176, 0.05430475, 0.45425838, 0.07712474, 0.32767034],\n",
       "       [0.10734669, 0.20022653, 0.16907315, 0.09501008, 0.42834353],\n",
       "       [0.05521187, 0.07608863, 0.05724574, 0.04867561, 0.7627781 ],\n",
       "       [0.04348138, 0.08000614, 0.03935573, 0.03855627, 0.7986005 ],\n",
       "       [0.0507997 , 0.17326854, 0.04406545, 0.04204562, 0.6898207 ],\n",
       "       [0.04643226, 0.4807227 , 0.04605399, 0.04662652, 0.38016444],\n",
       "       [0.25453454, 0.02517579, 0.09097354, 0.57955337, 0.04976276]],\n",
       "      dtype=float32)"
      ]
     },
     "execution_count": 122,
     "metadata": {},
     "output_type": "execute_result"
    }
   ],
   "source": [
    "# Making predictions and getting the prediction probabilities\n",
    "loaded_model_pred_probs = loaded_model.predict(val_dataset)\n",
    "loaded_model_pred_probs[:10]"
   ]
  },
  {
   "cell_type": "code",
   "execution_count": 123,
   "id": "0ec95f4f",
   "metadata": {},
   "outputs": [
    {
     "data": {
      "text/plain": [
       "<tf.Tensor: shape=(10,), dtype=int64, numpy=array([0, 2, 4, 2, 4, 4, 4, 4, 1, 3], dtype=int64)>"
      ]
     },
     "execution_count": 123,
     "metadata": {},
     "output_type": "execute_result"
    }
   ],
   "source": [
    "# Getting the prediction classes\n",
    "loaded_preds = tf.argmax(loaded_model_pred_probs, axis = 1)\n",
    "loaded_preds[:10]"
   ]
  },
  {
   "cell_type": "code",
   "execution_count": 125,
   "id": "4d018577",
   "metadata": {},
   "outputs": [
    {
     "data": {
      "text/plain": [
       "{'accuracy': 85.23779897691138,\n",
       " 'precision': 0.8510103620152915,\n",
       " 'recall': 0.8523779897691138,\n",
       " 'f1': 0.8511338892242143}"
      ]
     },
     "execution_count": 125,
     "metadata": {},
     "output_type": "execute_result"
    }
   ],
   "source": [
    "# Calculating the results\n",
    "from helper import calculate_results\n",
    "loaded_model_results = calculate_results(y_true = val_labels_encoded,\n",
    "                                          y_pred = loaded_preds)\n",
    "loaded_model_results"
   ]
  },
  {
   "cell_type": "code",
   "execution_count": 129,
   "id": "4255c4a7",
   "metadata": {},
   "outputs": [
    {
     "data": {
      "text/plain": [
       "array(['BACKGROUND', 'METHODS', 'RESULTS', ..., 'RESULTS', 'RESULTS',\n",
       "       'CONCLUSIONS'], dtype=object)"
      ]
     },
     "execution_count": 129,
     "metadata": {},
     "output_type": "execute_result"
    }
   ],
   "source": [
    "# Getting actual pred class names\n",
    "test_pred_classes = class_names[loaded_preds]\n",
    "test_pred_classes"
   ]
  },
  {
   "cell_type": "code",
   "execution_count": 38,
   "id": "88fdc17c",
   "metadata": {},
   "outputs": [
    {
     "data": {
      "text/plain": [
       "[{'abstract': 'This RCT examined the efficacy of a manualized social intervention for children with HFASDs. Participants were randomly assigned to treatment or wait-list conditions. Treatment included instruction and therapeutic activities targeting social skills, face-emotion recognition, interest expansion, and interpretation of non-literal language. A response-cost program was applied to reduce problem behaviors and foster skills acquisition. Significant treatment effects were found for five of seven primary outcome measures (parent ratings and direct child measures). Secondary measures based on staff ratings (treatment group only) corroborated gains reported by parents. High levels of parent, child and staff satisfaction were reported, along with high levels of treatment fidelity. Standardized effect size estimates were primarily in the medium and large ranges and favored the treatment group.',\n",
       "  'source': 'https://pubmed.ncbi.nlm.nih.gov/20232240/',\n",
       "  'details': 'RCT of a manualized social treatment for high-functioning autism spectrum disorders'},\n",
       " {'abstract': \"Postpartum depression (PPD) is the most prevalent mood disorder associated with childbirth. No single cause of PPD has been identified, however the increased risk of nutritional deficiencies incurred through the high nutritional requirements of pregnancy may play a role in the pathology of depressive symptoms. Three nutritional interventions have drawn particular interest as possible non-invasive and cost-effective prevention and/or treatment strategies for PPD; omega-3 (n-3) long chain polyunsaturated fatty acids (LCPUFA), vitamin D and overall diet. We searched for meta-analyses of randomised controlled trials (RCT's) of nutritional interventions during the perinatal period with PPD as an outcome, and checked for any trials published subsequently to the meta-analyses. Fish oil: Eleven RCT's of prenatal fish oil supplementation RCT's show null and positive effects on PPD symptoms. Vitamin D: no relevant RCT's were identified, however seven observational studies of maternal vitamin D levels with PPD outcomes showed inconsistent associations. Diet: Two Australian RCT's with dietary advice interventions in pregnancy had a positive and null result on PPD. With the exception of fish oil, few RCT's with nutritional interventions during pregnancy assess PPD. Further research is needed to determine whether nutritional intervention strategies during pregnancy can protect against symptoms of PPD. Given the prevalence of PPD and ease of administering PPD measures, we recommend future prenatal nutritional RCT's include PPD as an outcome.\",\n",
       "  'source': 'https://pubmed.ncbi.nlm.nih.gov/28012571/',\n",
       "  'details': 'Formatting removed (can be used to compare model to actual example)'},\n",
       " {'abstract': 'Mental illness, including depression, anxiety and bipolar disorder, accounts for a significant proportion of global disability and poses a substantial social, economic and heath burden. Treatment is presently dominated by pharmacotherapy, such as antidepressants, and psychotherapy, such as cognitive behavioural therapy; however, such treatments avert less than half of the disease burden, suggesting that additional strategies are needed to prevent and treat mental disorders. There are now consistent mechanistic, observational and interventional data to suggest diet quality may be a modifiable risk factor for mental illness. This review provides an overview of the nutritional psychiatry field. It includes a discussion of the neurobiological mechanisms likely modulated by diet, the use of dietary and nutraceutical interventions in mental disorders, and recommendations for further research. Potential biological pathways related to mental disorders include inflammation, oxidative stress, the gut microbiome, epigenetic modifications and neuroplasticity. Consistent epidemiological evidence, particularly for depression, suggests an association between measures of diet quality and mental health, across multiple populations and age groups; these do not appear to be explained by other demographic, lifestyle factors or reverse causality. Our recently published intervention trial provides preliminary clinical evidence that dietary interventions in clinically diagnosed populations are feasible and can provide significant clinical benefit. Furthermore, nutraceuticals including n-3 fatty acids, folate, S-adenosylmethionine, N-acetyl cysteine and probiotics, among others, are promising avenues for future research. Continued research is now required to investigate the efficacy of intervention studies in large cohorts and within clinically relevant populations, particularly in patients with schizophrenia, bipolar and anxiety disorders.',\n",
       "  'source': 'https://pubmed.ncbi.nlm.nih.gov/28942748/',\n",
       "  'details': 'Effect of nutrition on mental health'},\n",
       " {'abstract': \"Hepatitis C virus (HCV) and alcoholic liver disease (ALD), either alone or in combination, count for more than two thirds of all liver diseases in the Western world. There is no safe level of drinking in HCV-infected patients and the most effective goal for these patients is total abstinence. Baclofen, a GABA(B) receptor agonist, represents a promising pharmacotherapy for alcohol dependence (AD). Previously, we performed a randomized clinical trial (RCT), which demonstrated the safety and efficacy of baclofen in patients affected by AD and cirrhosis. The goal of this post-hoc analysis was to explore baclofen's effect in a subgroup of alcohol-dependent HCV-infected cirrhotic patients. Any patient with HCV infection was selected for this analysis. Among the 84 subjects randomized in the main trial, 24 alcohol-dependent cirrhotic patients had a HCV infection; 12 received baclofen 10mg t.i.d. and 12 received placebo for 12-weeks. With respect to the placebo group (3/12, 25.0%), a significantly higher number of patients who achieved and maintained total alcohol abstinence was found in the baclofen group (10/12, 83.3%; p=0.0123). Furthermore, in the baclofen group, compared to placebo, there was a significantly higher increase in albumin values from baseline (p=0.0132) and a trend toward a significant reduction in INR levels from baseline (p=0.0716). In conclusion, baclofen was safe and significantly more effective than placebo in promoting alcohol abstinence, and improving some Liver Function Tests (LFTs) (i.e. albumin, INR) in alcohol-dependent HCV-infected cirrhotic patients. Baclofen may represent a clinically relevant alcohol pharmacotherapy for these patients.\",\n",
       "  'source': 'https://pubmed.ncbi.nlm.nih.gov/22244707/',\n",
       "  'details': 'Baclofen promotes alcohol abstinence in alcohol dependent cirrhotic patients with hepatitis C virus (HCV) infection'}]"
      ]
     },
     "execution_count": 38,
     "metadata": {},
     "output_type": "execute_result"
    }
   ],
   "source": [
    "## Making an Example Prediction\n",
    "import json\n",
    "with open(\"skimlit_example_abstracts.json\", \"r\") as f:\n",
    "    example_abstract = json.load(f)\n",
    "\n",
    "example_abstract"
   ]
  },
  {
   "cell_type": "code",
   "execution_count": 39,
   "id": "1e6499f7",
   "metadata": {},
   "outputs": [
    {
     "data": {
      "text/html": [
       "<div>\n",
       "<style scoped>\n",
       "    .dataframe tbody tr th:only-of-type {\n",
       "        vertical-align: middle;\n",
       "    }\n",
       "\n",
       "    .dataframe tbody tr th {\n",
       "        vertical-align: top;\n",
       "    }\n",
       "\n",
       "    .dataframe thead th {\n",
       "        text-align: right;\n",
       "    }\n",
       "</style>\n",
       "<table border=\"1\" class=\"dataframe\">\n",
       "  <thead>\n",
       "    <tr style=\"text-align: right;\">\n",
       "      <th></th>\n",
       "      <th>abstract</th>\n",
       "      <th>source</th>\n",
       "      <th>details</th>\n",
       "    </tr>\n",
       "  </thead>\n",
       "  <tbody>\n",
       "    <tr>\n",
       "      <th>0</th>\n",
       "      <td>This RCT examined the efficacy of a manualized...</td>\n",
       "      <td>https://pubmed.ncbi.nlm.nih.gov/20232240/</td>\n",
       "      <td>RCT of a manualized social treatment for high-...</td>\n",
       "    </tr>\n",
       "    <tr>\n",
       "      <th>1</th>\n",
       "      <td>Postpartum depression (PPD) is the most preval...</td>\n",
       "      <td>https://pubmed.ncbi.nlm.nih.gov/28012571/</td>\n",
       "      <td>Formatting removed (can be used to compare mod...</td>\n",
       "    </tr>\n",
       "    <tr>\n",
       "      <th>2</th>\n",
       "      <td>Mental illness, including depression, anxiety ...</td>\n",
       "      <td>https://pubmed.ncbi.nlm.nih.gov/28942748/</td>\n",
       "      <td>Effect of nutrition on mental health</td>\n",
       "    </tr>\n",
       "    <tr>\n",
       "      <th>3</th>\n",
       "      <td>Hepatitis C virus (HCV) and alcoholic liver di...</td>\n",
       "      <td>https://pubmed.ncbi.nlm.nih.gov/22244707/</td>\n",
       "      <td>Baclofen promotes alcohol abstinence in alcoho...</td>\n",
       "    </tr>\n",
       "  </tbody>\n",
       "</table>\n",
       "</div>"
      ],
      "text/plain": [
       "                                            abstract  \\\n",
       "0  This RCT examined the efficacy of a manualized...   \n",
       "1  Postpartum depression (PPD) is the most preval...   \n",
       "2  Mental illness, including depression, anxiety ...   \n",
       "3  Hepatitis C virus (HCV) and alcoholic liver di...   \n",
       "\n",
       "                                      source  \\\n",
       "0  https://pubmed.ncbi.nlm.nih.gov/20232240/   \n",
       "1  https://pubmed.ncbi.nlm.nih.gov/28012571/   \n",
       "2  https://pubmed.ncbi.nlm.nih.gov/28942748/   \n",
       "3  https://pubmed.ncbi.nlm.nih.gov/22244707/   \n",
       "\n",
       "                                             details  \n",
       "0  RCT of a manualized social treatment for high-...  \n",
       "1  Formatting removed (can be used to compare mod...  \n",
       "2               Effect of nutrition on mental health  \n",
       "3  Baclofen promotes alcohol abstinence in alcoho...  "
      ]
     },
     "execution_count": 39,
     "metadata": {},
     "output_type": "execute_result"
    }
   ],
   "source": [
    "import pandas as pd\n",
    "abstracts = pd.DataFrame(example_abstract)\n",
    "abstracts"
   ]
  },
  {
   "cell_type": "code",
   "execution_count": 40,
   "id": "e95ad5a9",
   "metadata": {},
   "outputs": [
    {
     "data": {
      "text/plain": [
       "['Mental illness, including depression, anxiety and bipolar disorder, accounts for a significant proportion of global disability and poses a substantial social, economic and heath burden',\n",
       " ' Treatment is presently dominated by pharmacotherapy, such as antidepressants, and psychotherapy, such as cognitive behavioural therapy; however, such treatments avert less than half of the disease burden, suggesting that additional strategies are needed to prevent and treat mental disorders',\n",
       " ' There are now consistent mechanistic, observational and interventional data to suggest diet quality may be a modifiable risk factor for mental illness',\n",
       " ' This review provides an overview of the nutritional psychiatry field',\n",
       " ' It includes a discussion of the neurobiological mechanisms likely modulated by diet, the use of dietary and nutraceutical interventions in mental disorders, and recommendations for further research',\n",
       " ' Potential biological pathways related to mental disorders include inflammation, oxidative stress, the gut microbiome, epigenetic modifications and neuroplasticity',\n",
       " ' Consistent epidemiological evidence, particularly for depression, suggests an association between measures of diet quality and mental health, across multiple populations and age groups; these do not appear to be explained by other demographic, lifestyle factors or reverse causality',\n",
       " ' Our recently published intervention trial provides preliminary clinical evidence that dietary interventions in clinically diagnosed populations are feasible and can provide significant clinical benefit',\n",
       " ' Furthermore, nutraceuticals including n-3 fatty acids, folate, S-adenosylmethionine, N-acetyl cysteine and probiotics, among others, are promising avenues for future research',\n",
       " ' Continued research is now required to investigate the efficacy of intervention studies in large cohorts and within clinically relevant populations, particularly in patients with schizophrenia, bipolar and anxiety disorders']"
      ]
     },
     "execution_count": 40,
     "metadata": {},
     "output_type": "execute_result"
    }
   ],
   "source": [
    "abstract_lines = example_abstract[2][\"abstract\"].split(\".\")\n",
    "del abstract_lines[len(abstract_lines) - 1]\n",
    "abstract_lines"
   ]
  },
  {
   "cell_type": "code",
   "execution_count": 41,
   "id": "fc1bb1b7",
   "metadata": {},
   "outputs": [
    {
     "data": {
      "text/plain": [
       "[{'text': 'Mental illness, including depression, anxiety and bipolar disorder, accounts for a significant proportion of global disability and poses a substantial social, economic and heath burden',\n",
       "  'line_number': 0,\n",
       "  'total_lines': 9},\n",
       " {'text': ' Treatment is presently dominated by pharmacotherapy, such as antidepressants, and psychotherapy, such as cognitive behavioural therapy; however, such treatments avert less than half of the disease burden, suggesting that additional strategies are needed to prevent and treat mental disorders',\n",
       "  'line_number': 1,\n",
       "  'total_lines': 9},\n",
       " {'text': ' There are now consistent mechanistic, observational and interventional data to suggest diet quality may be a modifiable risk factor for mental illness',\n",
       "  'line_number': 2,\n",
       "  'total_lines': 9},\n",
       " {'text': ' This review provides an overview of the nutritional psychiatry field',\n",
       "  'line_number': 3,\n",
       "  'total_lines': 9},\n",
       " {'text': ' It includes a discussion of the neurobiological mechanisms likely modulated by diet, the use of dietary and nutraceutical interventions in mental disorders, and recommendations for further research',\n",
       "  'line_number': 4,\n",
       "  'total_lines': 9},\n",
       " {'text': ' Potential biological pathways related to mental disorders include inflammation, oxidative stress, the gut microbiome, epigenetic modifications and neuroplasticity',\n",
       "  'line_number': 5,\n",
       "  'total_lines': 9},\n",
       " {'text': ' Consistent epidemiological evidence, particularly for depression, suggests an association between measures of diet quality and mental health, across multiple populations and age groups; these do not appear to be explained by other demographic, lifestyle factors or reverse causality',\n",
       "  'line_number': 6,\n",
       "  'total_lines': 9},\n",
       " {'text': ' Our recently published intervention trial provides preliminary clinical evidence that dietary interventions in clinically diagnosed populations are feasible and can provide significant clinical benefit',\n",
       "  'line_number': 7,\n",
       "  'total_lines': 9},\n",
       " {'text': ' Furthermore, nutraceuticals including n-3 fatty acids, folate, S-adenosylmethionine, N-acetyl cysteine and probiotics, among others, are promising avenues for future research',\n",
       "  'line_number': 8,\n",
       "  'total_lines': 9},\n",
       " {'text': ' Continued research is now required to investigate the efficacy of intervention studies in large cohorts and within clinically relevant populations, particularly in patients with schizophrenia, bipolar and anxiety disorders',\n",
       "  'line_number': 9,\n",
       "  'total_lines': 9}]"
      ]
     },
     "execution_count": 41,
     "metadata": {},
     "output_type": "execute_result"
    }
   ],
   "source": [
    "# making the input suitable for model\n",
    "total_lines = len(abstract_lines)\n",
    "\n",
    "sample_lines = []\n",
    "for i, line in enumerate(abstract_lines):\n",
    "    sample_dict = {}\n",
    "    sample_dict[\"text\"] = str(line)\n",
    "    sample_dict[\"line_number\"] = i\n",
    "    sample_dict[\"total_lines\"] = total_lines - 1\n",
    "    sample_lines.append(sample_dict)\n",
    "\n",
    "sample_lines"
   ]
  },
  {
   "cell_type": "code",
   "execution_count": 42,
   "id": "0497e80a",
   "metadata": {},
   "outputs": [
    {
     "data": {
      "text/plain": [
       "(<tf.Tensor: shape=(10, 18), dtype=float32, numpy=\n",
       " array([[1., 0., 0., 0., 0., 0., 0., 0., 0., 0., 0., 0., 0., 0., 0., 0.,\n",
       "         0., 0.],\n",
       "        [0., 1., 0., 0., 0., 0., 0., 0., 0., 0., 0., 0., 0., 0., 0., 0.,\n",
       "         0., 0.],\n",
       "        [0., 0., 1., 0., 0., 0., 0., 0., 0., 0., 0., 0., 0., 0., 0., 0.,\n",
       "         0., 0.],\n",
       "        [0., 0., 0., 1., 0., 0., 0., 0., 0., 0., 0., 0., 0., 0., 0., 0.,\n",
       "         0., 0.],\n",
       "        [0., 0., 0., 0., 1., 0., 0., 0., 0., 0., 0., 0., 0., 0., 0., 0.,\n",
       "         0., 0.],\n",
       "        [0., 0., 0., 0., 0., 1., 0., 0., 0., 0., 0., 0., 0., 0., 0., 0.,\n",
       "         0., 0.],\n",
       "        [0., 0., 0., 0., 0., 0., 1., 0., 0., 0., 0., 0., 0., 0., 0., 0.,\n",
       "         0., 0.],\n",
       "        [0., 0., 0., 0., 0., 0., 0., 1., 0., 0., 0., 0., 0., 0., 0., 0.,\n",
       "         0., 0.],\n",
       "        [0., 0., 0., 0., 0., 0., 0., 0., 1., 0., 0., 0., 0., 0., 0., 0.,\n",
       "         0., 0.],\n",
       "        [0., 0., 0., 0., 0., 0., 0., 0., 0., 1., 0., 0., 0., 0., 0., 0.,\n",
       "         0., 0.]], dtype=float32)>,\n",
       " <tf.Tensor: shape=(10, 21), dtype=float32, numpy=\n",
       " array([[0., 0., 0., 0., 0., 0., 0., 0., 0., 1., 0., 0., 0., 0., 0., 0.,\n",
       "         0., 0., 0., 0., 0.],\n",
       "        [0., 0., 0., 0., 0., 0., 0., 0., 0., 1., 0., 0., 0., 0., 0., 0.,\n",
       "         0., 0., 0., 0., 0.],\n",
       "        [0., 0., 0., 0., 0., 0., 0., 0., 0., 1., 0., 0., 0., 0., 0., 0.,\n",
       "         0., 0., 0., 0., 0.],\n",
       "        [0., 0., 0., 0., 0., 0., 0., 0., 0., 1., 0., 0., 0., 0., 0., 0.,\n",
       "         0., 0., 0., 0., 0.],\n",
       "        [0., 0., 0., 0., 0., 0., 0., 0., 0., 1., 0., 0., 0., 0., 0., 0.,\n",
       "         0., 0., 0., 0., 0.],\n",
       "        [0., 0., 0., 0., 0., 0., 0., 0., 0., 1., 0., 0., 0., 0., 0., 0.,\n",
       "         0., 0., 0., 0., 0.],\n",
       "        [0., 0., 0., 0., 0., 0., 0., 0., 0., 1., 0., 0., 0., 0., 0., 0.,\n",
       "         0., 0., 0., 0., 0.],\n",
       "        [0., 0., 0., 0., 0., 0., 0., 0., 0., 1., 0., 0., 0., 0., 0., 0.,\n",
       "         0., 0., 0., 0., 0.],\n",
       "        [0., 0., 0., 0., 0., 0., 0., 0., 0., 1., 0., 0., 0., 0., 0., 0.,\n",
       "         0., 0., 0., 0., 0.],\n",
       "        [0., 0., 0., 0., 0., 0., 0., 0., 0., 1., 0., 0., 0., 0., 0., 0.,\n",
       "         0., 0., 0., 0., 0.]], dtype=float32)>)"
      ]
     },
     "execution_count": 42,
     "metadata": {},
     "output_type": "execute_result"
    }
   ],
   "source": [
    "import tensorflow as tf\n",
    "test_abstract_line_nums = [line[\"line_number\"] for line in sample_lines]\n",
    "test_abstract_line_nums_one_hot = tf.squeeze(tf.one_hot(test_abstract_line_nums, depth = 18))\n",
    "test_abstract_total_lines = [line[\"total_lines\"] for line in sample_lines]\n",
    "test_abstract_total_lines_one_hot = tf.squeeze(tf.one_hot(test_abstract_total_lines, depth = 21))\n",
    "test_abstract_line_nums_one_hot, test_abstract_total_lines_one_hot"
   ]
  },
  {
   "cell_type": "code",
   "execution_count": 46,
   "id": "a142bf04",
   "metadata": {},
   "outputs": [
    {
     "data": {
      "text/plain": [
       "['M e n t a l   i l l n e s s ,   i n c l u d i n g   d e p r e s s i o n ,   a n x i e t y   a n d   b i p o l a r   d i s o r d e r ,   a c c o u n t s   f o r   a   s i g n i f i c a n t   p r o p o r t i o n   o f   g l o b a l   d i s a b i l i t y   a n d   p o s e s   a   s u b s t a n t i a l   s o c i a l ,   e c o n o m i c   a n d   h e a t h   b u r d e n',\n",
       " '  T r e a t m e n t   i s   p r e s e n t l y   d o m i n a t e d   b y   p h a r m a c o t h e r a p y ,   s u c h   a s   a n t i d e p r e s s a n t s ,   a n d   p s y c h o t h e r a p y ,   s u c h   a s   c o g n i t i v e   b e h a v i o u r a l   t h e r a p y ;   h o w e v e r ,   s u c h   t r e a t m e n t s   a v e r t   l e s s   t h a n   h a l f   o f   t h e   d i s e a s e   b u r d e n ,   s u g g e s t i n g   t h a t   a d d i t i o n a l   s t r a t e g i e s   a r e   n e e d e d   t o   p r e v e n t   a n d   t r e a t   m e n t a l   d i s o r d e r s',\n",
       " '  T h e r e   a r e   n o w   c o n s i s t e n t   m e c h a n i s t i c ,   o b s e r v a t i o n a l   a n d   i n t e r v e n t i o n a l   d a t a   t o   s u g g e s t   d i e t   q u a l i t y   m a y   b e   a   m o d i f i a b l e   r i s k   f a c t o r   f o r   m e n t a l   i l l n e s s',\n",
       " '  T h i s   r e v i e w   p r o v i d e s   a n   o v e r v i e w   o f   t h e   n u t r i t i o n a l   p s y c h i a t r y   f i e l d',\n",
       " '  I t   i n c l u d e s   a   d i s c u s s i o n   o f   t h e   n e u r o b i o l o g i c a l   m e c h a n i s m s   l i k e l y   m o d u l a t e d   b y   d i e t ,   t h e   u s e   o f   d i e t a r y   a n d   n u t r a c e u t i c a l   i n t e r v e n t i o n s   i n   m e n t a l   d i s o r d e r s ,   a n d   r e c o m m e n d a t i o n s   f o r   f u r t h e r   r e s e a r c h',\n",
       " '  P o t e n t i a l   b i o l o g i c a l   p a t h w a y s   r e l a t e d   t o   m e n t a l   d i s o r d e r s   i n c l u d e   i n f l a m m a t i o n ,   o x i d a t i v e   s t r e s s ,   t h e   g u t   m i c r o b i o m e ,   e p i g e n e t i c   m o d i f i c a t i o n s   a n d   n e u r o p l a s t i c i t y',\n",
       " '  C o n s i s t e n t   e p i d e m i o l o g i c a l   e v i d e n c e ,   p a r t i c u l a r l y   f o r   d e p r e s s i o n ,   s u g g e s t s   a n   a s s o c i a t i o n   b e t w e e n   m e a s u r e s   o f   d i e t   q u a l i t y   a n d   m e n t a l   h e a l t h ,   a c r o s s   m u l t i p l e   p o p u l a t i o n s   a n d   a g e   g r o u p s ;   t h e s e   d o   n o t   a p p e a r   t o   b e   e x p l a i n e d   b y   o t h e r   d e m o g r a p h i c ,   l i f e s t y l e   f a c t o r s   o r   r e v e r s e   c a u s a l i t y',\n",
       " '  O u r   r e c e n t l y   p u b l i s h e d   i n t e r v e n t i o n   t r i a l   p r o v i d e s   p r e l i m i n a r y   c l i n i c a l   e v i d e n c e   t h a t   d i e t a r y   i n t e r v e n t i o n s   i n   c l i n i c a l l y   d i a g n o s e d   p o p u l a t i o n s   a r e   f e a s i b l e   a n d   c a n   p r o v i d e   s i g n i f i c a n t   c l i n i c a l   b e n e f i t',\n",
       " '  F u r t h e r m o r e ,   n u t r a c e u t i c a l s   i n c l u d i n g   n - 3   f a t t y   a c i d s ,   f o l a t e ,   S - a d e n o s y l m e t h i o n i n e ,   N - a c e t y l   c y s t e i n e   a n d   p r o b i o t i c s ,   a m o n g   o t h e r s ,   a r e   p r o m i s i n g   a v e n u e s   f o r   f u t u r e   r e s e a r c h',\n",
       " '  C o n t i n u e d   r e s e a r c h   i s   n o w   r e q u i r e d   t o   i n v e s t i g a t e   t h e   e f f i c a c y   o f   i n t e r v e n t i o n   s t u d i e s   i n   l a r g e   c o h o r t s   a n d   w i t h i n   c l i n i c a l l y   r e l e v a n t   p o p u l a t i o n s ,   p a r t i c u l a r l y   i n   p a t i e n t s   w i t h   s c h i z o p h r e n i a ,   b i p o l a r   a n d   a n x i e t y   d i s o r d e r s']"
      ]
     },
     "execution_count": 46,
     "metadata": {},
     "output_type": "execute_result"
    }
   ],
   "source": [
    "abstract_chars = [split_chars(sentence) for sentence in abstract_lines]\n",
    "abstract_chars"
   ]
  },
  {
   "cell_type": "code",
   "execution_count": 47,
   "id": "8a20d4cf",
   "metadata": {},
   "outputs": [
    {
     "name": "stdout",
     "output_type": "stream",
     "text": [
      "Line Num Shape: (10, 18)\n",
      "Total Lines Shape: (10, 21)\n",
      "Abstract Lines Shape: (10,)\n",
      "Abstract Chars Shape: (10,)\n"
     ]
    }
   ],
   "source": [
    "# Checking final shapes\n",
    "print(f\"Line Num Shape: {test_abstract_line_nums_one_hot.shape}\")\n",
    "print(f\"Total Lines Shape: {test_abstract_total_lines_one_hot.shape}\")\n",
    "print(f\"Abstract Lines Shape: {tf.constant(abstract_lines).shape}\")\n",
    "print(f\"Abstract Chars Shape: {tf.constant(abstract_chars).shape}\")"
   ]
  },
  {
   "cell_type": "code",
   "execution_count": 50,
   "id": "646c4ec6",
   "metadata": {},
   "outputs": [
    {
     "ename": "UnknownError",
     "evalue": "Graph execution error:\n\nJIT compilation failed.\n\t [[{{node EncoderDNN/EmbeddingLookup/EmbeddingLookupUnique/embedding_lookup/mod}}]] [Op:__inference_predict_function_98802]",
     "output_type": "error",
     "traceback": [
      "\u001b[1;31m---------------------------------------------------------------------------\u001b[0m",
      "\u001b[1;31mUnknownError\u001b[0m                              Traceback (most recent call last)",
      "\u001b[1;32m~\\AppData\\Local\\Temp\\ipykernel_6540\\3038922157.py\u001b[0m in \u001b[0;36m<module>\u001b[1;34m\u001b[0m\n\u001b[0;32m      1\u001b[0m \u001b[1;31m#Making the predictions\u001b[0m\u001b[1;33m\u001b[0m\u001b[1;33m\u001b[0m\u001b[0m\n\u001b[1;32m----> 2\u001b[1;33m test_abstarct_pred_probs = loaded_model.predict(x = (test_abstract_line_nums_one_hot,\n\u001b[0m\u001b[0;32m      3\u001b[0m                                                      \u001b[0mtest_abstract_total_lines_one_hot\u001b[0m\u001b[1;33m,\u001b[0m\u001b[1;33m\u001b[0m\u001b[1;33m\u001b[0m\u001b[0m\n\u001b[0;32m      4\u001b[0m                                                      \u001b[0mtf\u001b[0m\u001b[1;33m.\u001b[0m\u001b[0mconstant\u001b[0m\u001b[1;33m(\u001b[0m\u001b[0mabstract_lines\u001b[0m\u001b[1;33m)\u001b[0m\u001b[1;33m,\u001b[0m\u001b[1;33m\u001b[0m\u001b[1;33m\u001b[0m\u001b[0m\n\u001b[0;32m      5\u001b[0m                                                      tf.constant(abstract_chars)))\n",
      "\u001b[1;32m~\\anaconda3\\lib\\site-packages\\keras\\utils\\traceback_utils.py\u001b[0m in \u001b[0;36merror_handler\u001b[1;34m(*args, **kwargs)\u001b[0m\n\u001b[0;32m     68\u001b[0m             \u001b[1;31m# To get the full stack trace, call:\u001b[0m\u001b[1;33m\u001b[0m\u001b[1;33m\u001b[0m\u001b[0m\n\u001b[0;32m     69\u001b[0m             \u001b[1;31m# `tf.debugging.disable_traceback_filtering()`\u001b[0m\u001b[1;33m\u001b[0m\u001b[1;33m\u001b[0m\u001b[0m\n\u001b[1;32m---> 70\u001b[1;33m             \u001b[1;32mraise\u001b[0m \u001b[0me\u001b[0m\u001b[1;33m.\u001b[0m\u001b[0mwith_traceback\u001b[0m\u001b[1;33m(\u001b[0m\u001b[0mfiltered_tb\u001b[0m\u001b[1;33m)\u001b[0m \u001b[1;32mfrom\u001b[0m \u001b[1;32mNone\u001b[0m\u001b[1;33m\u001b[0m\u001b[1;33m\u001b[0m\u001b[0m\n\u001b[0m\u001b[0;32m     71\u001b[0m         \u001b[1;32mfinally\u001b[0m\u001b[1;33m:\u001b[0m\u001b[1;33m\u001b[0m\u001b[1;33m\u001b[0m\u001b[0m\n\u001b[0;32m     72\u001b[0m             \u001b[1;32mdel\u001b[0m \u001b[0mfiltered_tb\u001b[0m\u001b[1;33m\u001b[0m\u001b[1;33m\u001b[0m\u001b[0m\n",
      "\u001b[1;32m~\\anaconda3\\lib\\site-packages\\tensorflow\\python\\eager\\execute.py\u001b[0m in \u001b[0;36mquick_execute\u001b[1;34m(op_name, num_outputs, inputs, attrs, ctx, name)\u001b[0m\n\u001b[0;32m     52\u001b[0m   \u001b[1;32mtry\u001b[0m\u001b[1;33m:\u001b[0m\u001b[1;33m\u001b[0m\u001b[1;33m\u001b[0m\u001b[0m\n\u001b[0;32m     53\u001b[0m     \u001b[0mctx\u001b[0m\u001b[1;33m.\u001b[0m\u001b[0mensure_initialized\u001b[0m\u001b[1;33m(\u001b[0m\u001b[1;33m)\u001b[0m\u001b[1;33m\u001b[0m\u001b[1;33m\u001b[0m\u001b[0m\n\u001b[1;32m---> 54\u001b[1;33m     tensors = pywrap_tfe.TFE_Py_Execute(ctx._handle, device_name, op_name,\n\u001b[0m\u001b[0;32m     55\u001b[0m                                         inputs, attrs, num_outputs)\n\u001b[0;32m     56\u001b[0m   \u001b[1;32mexcept\u001b[0m \u001b[0mcore\u001b[0m\u001b[1;33m.\u001b[0m\u001b[0m_NotOkStatusException\u001b[0m \u001b[1;32mas\u001b[0m \u001b[0me\u001b[0m\u001b[1;33m:\u001b[0m\u001b[1;33m\u001b[0m\u001b[1;33m\u001b[0m\u001b[0m\n",
      "\u001b[1;31mUnknownError\u001b[0m: Graph execution error:\n\nJIT compilation failed.\n\t [[{{node EncoderDNN/EmbeddingLookup/EmbeddingLookupUnique/embedding_lookup/mod}}]] [Op:__inference_predict_function_98802]"
     ]
    }
   ],
   "source": [
    "#Making the predictions\n",
    "test_abstarct_pred_probs = loaded_model.predict(x = (test_abstract_line_nums_one_hot,\n",
    "                                                     test_abstract_total_lines_one_hot,\n",
    "                                                     tf.constant(abstract_lines),\n",
    "                                                     tf.constant(abstract_chars)))\n",
    "test_abstarct_pred_probs"
   ]
  },
  {
   "cell_type": "code",
   "execution_count": 146,
   "id": "960c5914",
   "metadata": {},
   "outputs": [
    {
     "data": {
      "text/plain": [
       "<tf.Tensor: shape=(10,), dtype=int64, numpy=array([0, 0, 0, 1, 1, 1, 1, 1, 1, 1], dtype=int64)>"
      ]
     },
     "execution_count": 146,
     "metadata": {},
     "output_type": "execute_result"
    }
   ],
   "source": [
    "# getting the classes\n",
    "test_abstract_preds = tf.argmax(test_abstarct_pred_probs, axis = 1)\n",
    "test_abstract_preds"
   ]
  },
  {
   "cell_type": "code",
   "execution_count": 147,
   "id": "bec826e6",
   "metadata": {},
   "outputs": [
    {
     "data": {
      "text/plain": [
       "['BACKGROUND',\n",
       " 'BACKGROUND',\n",
       " 'BACKGROUND',\n",
       " 'CONCLUSIONS',\n",
       " 'CONCLUSIONS',\n",
       " 'CONCLUSIONS',\n",
       " 'CONCLUSIONS',\n",
       " 'CONCLUSIONS',\n",
       " 'CONCLUSIONS',\n",
       " 'CONCLUSIONS']"
      ]
     },
     "execution_count": 147,
     "metadata": {},
     "output_type": "execute_result"
    }
   ],
   "source": [
    "# Getting string names of classes\n",
    "test_abstract_class_names = [class_names[pred] for pred in test_abstract_preds]\n",
    "test_abstract_class_names"
   ]
  },
  {
   "cell_type": "code",
   "execution_count": 149,
   "id": "c45df386",
   "metadata": {},
   "outputs": [
    {
     "name": "stdout",
     "output_type": "stream",
     "text": [
      "BACKGROUND: Mental illness, including depression, anxiety and bipolar disorder, accounts for a significant proportion of global disability and poses a substantial social, economic and heath burden\n",
      "BACKGROUND:  Treatment is presently dominated by pharmacotherapy, such as antidepressants, and psychotherapy, such as cognitive behavioural therapy; however, such treatments avert less than half of the disease burden, suggesting that additional strategies are needed to prevent and treat mental disorders\n",
      "BACKGROUND:  There are now consistent mechanistic, observational and interventional data to suggest diet quality may be a modifiable risk factor for mental illness\n",
      "CONCLUSIONS:  This review provides an overview of the nutritional psychiatry field\n",
      "CONCLUSIONS:  It includes a discussion of the neurobiological mechanisms likely modulated by diet, the use of dietary and nutraceutical interventions in mental disorders, and recommendations for further research\n",
      "CONCLUSIONS:  Potential biological pathways related to mental disorders include inflammation, oxidative stress, the gut microbiome, epigenetic modifications and neuroplasticity\n",
      "CONCLUSIONS:  Consistent epidemiological evidence, particularly for depression, suggests an association between measures of diet quality and mental health, across multiple populations and age groups; these do not appear to be explained by other demographic, lifestyle factors or reverse causality\n",
      "CONCLUSIONS:  Our recently published intervention trial provides preliminary clinical evidence that dietary interventions in clinically diagnosed populations are feasible and can provide significant clinical benefit\n",
      "CONCLUSIONS:  Furthermore, nutraceuticals including n-3 fatty acids, folate, S-adenosylmethionine, N-acetyl cysteine and probiotics, among others, are promising avenues for future research\n",
      "CONCLUSIONS:  Continued research is now required to investigate the efficacy of intervention studies in large cohorts and within clinically relevant populations, particularly in patients with schizophrenia, bipolar and anxiety disorders\n"
     ]
    }
   ],
   "source": [
    "for i, line in enumerate(abstract_lines):\n",
    "    print(f\"{test_abstract_class_names[i]}: {line}\")"
   ]
  },
  {
   "cell_type": "code",
   "execution_count": null,
   "id": "c5f97b7a",
   "metadata": {},
   "outputs": [],
   "source": []
  }
 ],
 "metadata": {
  "kernelspec": {
   "display_name": "Python 3 (ipykernel)",
   "language": "python",
   "name": "python3"
  },
  "language_info": {
   "codemirror_mode": {
    "name": "ipython",
    "version": 3
   },
   "file_extension": ".py",
   "mimetype": "text/x-python",
   "name": "python",
   "nbconvert_exporter": "python",
   "pygments_lexer": "ipython3",
   "version": "3.9.13"
  }
 },
 "nbformat": 4,
 "nbformat_minor": 5
}
